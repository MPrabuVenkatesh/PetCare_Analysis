{
 "cells": [
  {
   "cell_type": "code",
   "execution_count": 1,
   "id": "fc82fc58-d4d4-445d-84a4-4a768af1b10e",
   "metadata": {},
   "outputs": [],
   "source": [
    "import pandas as pd\n",
    "import numpy as np"
   ]
  },
  {
   "cell_type": "code",
   "execution_count": 2,
   "id": "e7a86aa1-e2a8-483f-a0d4-e0c17d445116",
   "metadata": {},
   "outputs": [],
   "source": [
    "dog_df = pd.read_csv('allDogDescriptions.csv')\n",
    "breed_info = pd.read_csv('dog_breeds.csv')\n",
    "supplies_df = pd.read_csv('aliexpress_pet_supplies.csv')"
   ]
  },
  {
   "cell_type": "code",
   "execution_count": 3,
   "id": "047b5218-40e0-4122-b6bd-486e1182686a",
   "metadata": {},
   "outputs": [
    {
     "name": "stdout",
     "output_type": "stream",
     "text": [
      "Dog Descriptions columns: ['index', 'id', 'org_id', 'url', 'type.x', 'species', 'breed_primary', 'breed_secondary', 'breed_mixed', 'breed_unknown', 'color_primary', 'color_secondary', 'color_tertiary', 'age', 'sex', 'size', 'coat', 'fixed', 'house_trained', 'declawed', 'special_needs', 'shots_current', 'env_children', 'env_dogs', 'env_cats', 'name', 'status', 'posted', 'contact_city', 'contact_state', 'contact_zip', 'contact_country', 'stateQ', 'accessed', 'type.y', 'description']\n",
      "                                                                 0\n",
      "index                                                            0\n",
      "id                                                        46042150\n",
      "org_id                                                       NV163\n",
      "url              https://www.petfinder.com/dog/harley-46042150/...\n",
      "type.x                                                         Dog\n",
      "species                                                        Dog\n",
      "breed_primary                       American Staffordshire Terrier\n",
      "breed_secondary                                        Mixed Breed\n",
      "breed_mixed                                                   True\n",
      "breed_unknown                                                False\n",
      "color_primary                                        White / Cream\n",
      "color_secondary                        Yellow / Tan / Blond / Fawn\n",
      "color_tertiary                                                 NaN\n",
      "age                                                         Senior\n",
      "sex                                                           Male\n",
      "size                                                        Medium\n",
      "coat                                                         Short\n",
      "fixed                                                         True\n",
      "house_trained                                                 True\n",
      "declawed                                                       NaN\n",
      "special_needs                                                False\n",
      "shots_current                                                 True\n",
      "env_children                                                   NaN\n",
      "env_dogs                                                       NaN\n",
      "env_cats                                                       NaN\n",
      "name                                                        HARLEY\n",
      "status                                                   adoptable\n",
      "posted                                    2019-09-20T16:37:59+0000\n",
      "contact_city                                             Las Vegas\n",
      "contact_state                                                   NV\n",
      "contact_zip                                                  89147\n",
      "contact_country                                                 US\n",
      "stateQ                                                       89009\n",
      "accessed                                                2019-09-20\n",
      "type.y                                                         Dog\n",
      "description      Harley is not sure how he wound up at shelter ...\n",
      "\n",
      "Breed Info columns: ['Breed', 'Country of Origin', 'Fur Color', 'Height (in)', 'Color of Eyes', 'Longevity (yrs)', 'Character Traits', 'Common Health Problems']\n",
      "                                                                        0\n",
      "Breed                                                  Labrador Retriever\n",
      "Country of Origin                                                  Canada\n",
      "Fur Color                                        Yellow, Black, Chocolate\n",
      "Height (in)                                                         21-24\n",
      "Color of Eyes                                                       Brown\n",
      "Longevity (yrs)                                                     10-12\n",
      "Character Traits        Loyal, friendly, intelligent, energetic, good-...\n",
      "Common Health Problems             Hip dysplasia, obesity, ear infections\n",
      "\n",
      "Pet Supplies columns: ['title', 'averageStar', 'quantity', 'tradeAmount', 'wishedCount']\n",
      "                                                             0\n",
      "title        Mesh Litter Spatula Poop Remover Pet Cleaning ...\n",
      "averageStar                                                0.0\n",
      "quantity                                                  9993\n",
      "tradeAmount                                             5 sold\n",
      "wishedCount                                                  0\n"
     ]
    }
   ],
   "source": [
    "print(\"Dog Descriptions columns:\", list(dog_df.columns))\n",
    "print(dog_df.head(1).T)\n",
    "print(\"\\nBreed Info columns:\", list(breed_info.columns))\n",
    "print(breed_info.head(1).T)\n",
    "print(\"\\nPet Supplies columns:\", list(supplies_df.columns))\n",
    "print(supplies_df.head(1).T)"
   ]
  },
  {
   "cell_type": "code",
   "execution_count": 4,
   "id": "65a0acfe-9cfc-4124-bd8b-6d269f9c85a8",
   "metadata": {},
   "outputs": [
    {
     "name": "stdout",
     "output_type": "stream",
     "text": [
      "Dog df size after drop_duplicates: (58180, 36)\n",
      "Dog df size after dropping missing primary breed: (58180, 36)\n"
     ]
    }
   ],
   "source": [
    "# Remove exact duplicate rows\n",
    "dog_df = dog_df.drop_duplicates()\n",
    "print(\"Dog df size after drop_duplicates:\", dog_df.shape)\n",
    "\n",
    "# Drop rows missing primary breed or essential fields (if any)\n",
    "dog_df = dog_df.dropna(subset=['breed_primary'])\n",
    "print(\"Dog df size after dropping missing primary breed:\", dog_df.shape)\n",
    "\n",
    "# Standardize column names: lowercase, replace spaces/dots\n",
    "dog_df.columns = (dog_df.columns.str.lower()\n",
    "                               .str.replace(' ', '_')\n",
    "                               .str.replace('.', '_')\n",
    "                               .str.replace('x$', '', regex=True))"
   ]
  },
  {
   "cell_type": "code",
   "execution_count": 5,
   "id": "68597f83-3ea8-4a3b-9855-0cec9a0df2f2",
   "metadata": {},
   "outputs": [],
   "source": [
    "if 'type_y' in dog_df.columns:\n",
    "    dog_df.drop(columns=['type_y'], inplace=True)\n",
    "dog_df.rename(columns={'type_x':'type'}, inplace=True)"
   ]
  },
  {
   "cell_type": "code",
   "execution_count": 6,
   "id": "36564c80-9c47-4f40-ae04-9f357cdce21f",
   "metadata": {},
   "outputs": [],
   "source": [
    "dog_df['posted'] = pd.to_datetime(dog_df['posted'], errors='coerce')\n",
    "dog_df['accessed'] = pd.to_datetime(dog_df['accessed'], errors='coerce')"
   ]
  },
  {
   "cell_type": "code",
   "execution_count": 7,
   "id": "895f91c1-f0e7-4c43-92c1-0f95a46ed726",
   "metadata": {},
   "outputs": [],
   "source": [
    "breed_info = breed_info.drop_duplicates(subset=['Breed'])\n",
    "breed_info.columns = (breed_info.columns.str.strip()\n",
    "                                  .str.lower()\n",
    "                                  .str.replace(' ', '_')\n",
    "                                  .str.replace(r'\\(.*\\)', '', regex=True))"
   ]
  },
  {
   "cell_type": "code",
   "execution_count": 10,
   "id": "f41582e1-92af-4a7e-8160-f4d6102814ae",
   "metadata": {},
   "outputs": [
    {
     "ename": "KeyError",
     "evalue": "'height__in_'",
     "output_type": "error",
     "traceback": [
      "\u001b[1;31m---------------------------------------------------------------------------\u001b[0m",
      "\u001b[1;31mKeyError\u001b[0m                                  Traceback (most recent call last)",
      "File \u001b[1;32m~\\anaconda3\\Lib\\site-packages\\pandas\\core\\indexes\\base.py:3805\u001b[0m, in \u001b[0;36mIndex.get_loc\u001b[1;34m(self, key)\u001b[0m\n\u001b[0;32m   3804\u001b[0m \u001b[38;5;28;01mtry\u001b[39;00m:\n\u001b[1;32m-> 3805\u001b[0m     \u001b[38;5;28;01mreturn\u001b[39;00m \u001b[38;5;28mself\u001b[39m\u001b[38;5;241m.\u001b[39m_engine\u001b[38;5;241m.\u001b[39mget_loc(casted_key)\n\u001b[0;32m   3806\u001b[0m \u001b[38;5;28;01mexcept\u001b[39;00m \u001b[38;5;167;01mKeyError\u001b[39;00m \u001b[38;5;28;01mas\u001b[39;00m err:\n",
      "File \u001b[1;32mindex.pyx:167\u001b[0m, in \u001b[0;36mpandas._libs.index.IndexEngine.get_loc\u001b[1;34m()\u001b[0m\n",
      "File \u001b[1;32mindex.pyx:196\u001b[0m, in \u001b[0;36mpandas._libs.index.IndexEngine.get_loc\u001b[1;34m()\u001b[0m\n",
      "File \u001b[1;32mpandas\\\\_libs\\\\hashtable_class_helper.pxi:7081\u001b[0m, in \u001b[0;36mpandas._libs.hashtable.PyObjectHashTable.get_item\u001b[1;34m()\u001b[0m\n",
      "File \u001b[1;32mpandas\\\\_libs\\\\hashtable_class_helper.pxi:7089\u001b[0m, in \u001b[0;36mpandas._libs.hashtable.PyObjectHashTable.get_item\u001b[1;34m()\u001b[0m\n",
      "\u001b[1;31mKeyError\u001b[0m: 'height__in_'",
      "\nThe above exception was the direct cause of the following exception:\n",
      "\u001b[1;31mKeyError\u001b[0m                                  Traceback (most recent call last)",
      "Cell \u001b[1;32mIn[10], line 2\u001b[0m\n\u001b[0;32m      1\u001b[0m \u001b[38;5;66;03m# Parse height to numeric (take first number)\u001b[39;00m\n\u001b[1;32m----> 2\u001b[0m breed_info[\u001b[38;5;124m'\u001b[39m\u001b[38;5;124mheight_in\u001b[39m\u001b[38;5;124m'\u001b[39m] \u001b[38;5;241m=\u001b[39m breed_info[\u001b[38;5;124m'\u001b[39m\u001b[38;5;124mheight__in_\u001b[39m\u001b[38;5;124m'\u001b[39m]\u001b[38;5;241m.\u001b[39mstr\u001b[38;5;241m.\u001b[39msplit(\u001b[38;5;124m'\u001b[39m\u001b[38;5;124m-\u001b[39m\u001b[38;5;124m'\u001b[39m)\u001b[38;5;241m.\u001b[39mstr[\u001b[38;5;241m0\u001b[39m]\u001b[38;5;241m.\u001b[39mastype(\u001b[38;5;28mfloat\u001b[39m, errors\u001b[38;5;241m=\u001b[39m\u001b[38;5;124m'\u001b[39m\u001b[38;5;124mignore\u001b[39m\u001b[38;5;124m'\u001b[39m)\n",
      "File \u001b[1;32m~\\anaconda3\\Lib\\site-packages\\pandas\\core\\frame.py:4102\u001b[0m, in \u001b[0;36mDataFrame.__getitem__\u001b[1;34m(self, key)\u001b[0m\n\u001b[0;32m   4100\u001b[0m \u001b[38;5;28;01mif\u001b[39;00m \u001b[38;5;28mself\u001b[39m\u001b[38;5;241m.\u001b[39mcolumns\u001b[38;5;241m.\u001b[39mnlevels \u001b[38;5;241m>\u001b[39m \u001b[38;5;241m1\u001b[39m:\n\u001b[0;32m   4101\u001b[0m     \u001b[38;5;28;01mreturn\u001b[39;00m \u001b[38;5;28mself\u001b[39m\u001b[38;5;241m.\u001b[39m_getitem_multilevel(key)\n\u001b[1;32m-> 4102\u001b[0m indexer \u001b[38;5;241m=\u001b[39m \u001b[38;5;28mself\u001b[39m\u001b[38;5;241m.\u001b[39mcolumns\u001b[38;5;241m.\u001b[39mget_loc(key)\n\u001b[0;32m   4103\u001b[0m \u001b[38;5;28;01mif\u001b[39;00m is_integer(indexer):\n\u001b[0;32m   4104\u001b[0m     indexer \u001b[38;5;241m=\u001b[39m [indexer]\n",
      "File \u001b[1;32m~\\anaconda3\\Lib\\site-packages\\pandas\\core\\indexes\\base.py:3812\u001b[0m, in \u001b[0;36mIndex.get_loc\u001b[1;34m(self, key)\u001b[0m\n\u001b[0;32m   3807\u001b[0m     \u001b[38;5;28;01mif\u001b[39;00m \u001b[38;5;28misinstance\u001b[39m(casted_key, \u001b[38;5;28mslice\u001b[39m) \u001b[38;5;129;01mor\u001b[39;00m (\n\u001b[0;32m   3808\u001b[0m         \u001b[38;5;28misinstance\u001b[39m(casted_key, abc\u001b[38;5;241m.\u001b[39mIterable)\n\u001b[0;32m   3809\u001b[0m         \u001b[38;5;129;01mand\u001b[39;00m \u001b[38;5;28many\u001b[39m(\u001b[38;5;28misinstance\u001b[39m(x, \u001b[38;5;28mslice\u001b[39m) \u001b[38;5;28;01mfor\u001b[39;00m x \u001b[38;5;129;01min\u001b[39;00m casted_key)\n\u001b[0;32m   3810\u001b[0m     ):\n\u001b[0;32m   3811\u001b[0m         \u001b[38;5;28;01mraise\u001b[39;00m InvalidIndexError(key)\n\u001b[1;32m-> 3812\u001b[0m     \u001b[38;5;28;01mraise\u001b[39;00m \u001b[38;5;167;01mKeyError\u001b[39;00m(key) \u001b[38;5;28;01mfrom\u001b[39;00m \u001b[38;5;21;01merr\u001b[39;00m\n\u001b[0;32m   3813\u001b[0m \u001b[38;5;28;01mexcept\u001b[39;00m \u001b[38;5;167;01mTypeError\u001b[39;00m:\n\u001b[0;32m   3814\u001b[0m     \u001b[38;5;66;03m# If we have a listlike key, _check_indexing_error will raise\u001b[39;00m\n\u001b[0;32m   3815\u001b[0m     \u001b[38;5;66;03m#  InvalidIndexError. Otherwise we fall through and re-raise\u001b[39;00m\n\u001b[0;32m   3816\u001b[0m     \u001b[38;5;66;03m#  the TypeError.\u001b[39;00m\n\u001b[0;32m   3817\u001b[0m     \u001b[38;5;28mself\u001b[39m\u001b[38;5;241m.\u001b[39m_check_indexing_error(key)\n",
      "\u001b[1;31mKeyError\u001b[0m: 'height__in_'"
     ]
    }
   ],
   "source": [
    "# Parse height to numeric (take first number)\n",
    "breed_info['height_in'] = breed_info['height__in_'].str.split('-').str[0].astype(float, errors='ignore')\n"
   ]
  },
  {
   "cell_type": "code",
   "execution_count": 11,
   "id": "29798ff6-72e1-4f36-8a5a-60ee92fc2786",
   "metadata": {},
   "outputs": [
    {
     "name": "stdout",
     "output_type": "stream",
     "text": [
      "Index(['breed', 'country_of_origin', 'fur_color', 'height_', 'color_of_eyes',\n",
      "       'longevity_', 'character_traits', 'common_health_problems'],\n",
      "      dtype='object')\n"
     ]
    }
   ],
   "source": [
    "print(breed_info.columns)"
   ]
  },
  {
   "cell_type": "code",
   "execution_count": 12,
   "id": "59e1a249-8ae1-4333-94b9-604f115311b1",
   "metadata": {},
   "outputs": [
    {
     "name": "stdout",
     "output_type": "stream",
     "text": [
      "Index(['breed', 'country_of_origin', 'fur_color', 'height_', 'color_of_eyes',\n",
      "       'longevity_', 'character_traits', 'common_health_problems'],\n",
      "      dtype='object')\n"
     ]
    }
   ],
   "source": [
    "breed_info.columns = (breed_info.columns\n",
    "                      .str.strip()\n",
    "                      .str.lower()\n",
    "                      .str.replace(' ', '_'))\n",
    "\n",
    "print(breed_info.columns)  # confirm cleaned names"
   ]
  },
  {
   "cell_type": "code",
   "execution_count": 13,
   "id": "3d2dabcd-46dc-423c-92e1-18b9493069d0",
   "metadata": {},
   "outputs": [
    {
     "name": "stderr",
     "output_type": "stream",
     "text": [
      "<>:6: SyntaxWarning: invalid escape sequence '\\d'\n",
      "<>:6: SyntaxWarning: invalid escape sequence '\\d'\n",
      "C:\\Users\\venky\\AppData\\Local\\Temp\\ipykernel_32064\\368728064.py:6: SyntaxWarning: invalid escape sequence '\\d'\n",
      "  .str.extract('(\\d+)')  # extract digits only\n"
     ]
    }
   ],
   "source": [
    "# Parse the height values\n",
    "breed_info['height_in'] = (breed_info['height_']\n",
    "                           .astype(str)  # make sure it's string\n",
    "                           .str.split('-')  # split on dash if range\n",
    "                           .str[0]          # take the first number\n",
    "                           .str.extract('(\\d+)')  # extract digits only\n",
    "                           .astype(float))  # convert to float"
   ]
  },
  {
   "cell_type": "code",
   "execution_count": 14,
   "id": "e1a6166c-9ff6-4638-be6a-f045b15eab9d",
   "metadata": {},
   "outputs": [],
   "source": [
    "breed_info['height_in'] = (breed_info['height_']\n",
    "                           .astype(str)                  # make sure it's string\n",
    "                           .str.split('-')               # split on dash if range\n",
    "                           .str[0]                       # take the first number\n",
    "                           .str.extract(r'(\\d+)')        # ✅ raw string for regex\n",
    "                           .astype(float))               # convert to float"
   ]
  },
  {
   "cell_type": "code",
   "execution_count": 15,
   "id": "14332332-dab5-4e58-b0d1-6624a8d243b5",
   "metadata": {},
   "outputs": [],
   "source": [
    "supplies_df = supplies_df.drop_duplicates()\n",
    "supplies_df.columns = (supplies_df.columns.str.lower()\n",
    "                                     .str.replace(' ', '_'))"
   ]
  },
  {
   "cell_type": "code",
   "execution_count": 16,
   "id": "39895711-59c2-4e1e-ac20-3dce7f5586a0",
   "metadata": {},
   "outputs": [],
   "source": [
    "# Clean 'wishedcount' and 'quantity'\n",
    "supplies_df['quantity'] = pd.to_numeric(supplies_df['quantity'], errors='coerce')\n",
    "supplies_df['wishedcount'] = pd.to_numeric(supplies_df['wishedcount'], errors='coerce')\n",
    "\n",
    "# Extract number of items sold from 'tradeamount'\n",
    "supplies_df['sold_count'] = supplies_df['tradeamount'].str.replace(r'\\D', '', regex=True)\n",
    "supplies_df['sold_count'] = pd.to_numeric(supplies_df['sold_count'], errors='coerce')\n"
   ]
  },
  {
   "cell_type": "code",
   "execution_count": 17,
   "id": "3cbf2f70-ae74-4ce5-908c-d198ea1d208a",
   "metadata": {},
   "outputs": [],
   "source": [
    "dog_df['breed_primary_clean'] = dog_df['breed_primary'].str.lower()\n",
    "breed_info['breed_clean'] = breed_info['breed'].str.lower()\n"
   ]
  },
  {
   "cell_type": "code",
   "execution_count": 18,
   "id": "96cd663e-078a-4bd0-9475-9af35fcabdfe",
   "metadata": {},
   "outputs": [
    {
     "name": "stdout",
     "output_type": "stream",
     "text": [
      "Merged dog DataFrame columns: Index(['inde', 'id', 'org_id', 'url', 'type_', 'species', 'breed_primary',\n",
      "       'breed_secondary', 'breed_mixed', 'breed_unknown', 'color_primary',\n",
      "       'color_secondary', 'color_tertiary', 'age', 'se', 'size', 'coat',\n",
      "       'fixed', 'house_trained', 'declawed', 'special_needs', 'shots_current',\n",
      "       'env_children', 'env_dogs', 'env_cats', 'name', 'status', 'posted',\n",
      "       'contact_city', 'contact_state', 'contact_zip', 'contact_country',\n",
      "       'stateq', 'accessed', 'description', 'breed_primary_clean', 'breed',\n",
      "       'country_of_origin', 'fur_color', 'height_', 'color_of_eyes',\n",
      "       'longevity_', 'character_traits', 'common_health_problems', 'height_in',\n",
      "       'breed_clean'],\n",
      "      dtype='object')\n"
     ]
    }
   ],
   "source": [
    "dog_merged = pd.merge(dog_df, breed_info, left_on='breed_primary_clean', right_on='breed_clean', how='left')\n",
    "print(\"Merged dog DataFrame columns:\", dog_merged.columns)\n"
   ]
  },
  {
   "cell_type": "code",
   "execution_count": 19,
   "id": "c3b2da56-32b3-4a83-a25a-1b589157752a",
   "metadata": {},
   "outputs": [],
   "source": [
    "def size_category(h):\n",
    "    if pd.isna(h): return np.nan\n",
    "    if h <= 15: return 'Small'\n",
    "    elif h <= 22: return 'Medium'\n",
    "    else: return 'Large'\n",
    "\n",
    "breed_info['size_category'] = breed_info['height_in'].apply(size_category)\n",
    "dog_merged['size_category'] = pd.merge(dog_merged, breed_info[['breed_clean','size_category']],\n",
    "                                      left_on='breed_primary_clean', right_on='breed_clean', how='left')['size_category']\n"
   ]
  },
  {
   "cell_type": "code",
   "execution_count": 20,
   "id": "162e09ef-b70e-4328-bd1b-b08e20bd3839",
   "metadata": {},
   "outputs": [
    {
     "data": {
      "text/plain": [
       "pet_type\n",
       "Cat      1279\n",
       "Dog       658\n",
       "Other      60\n",
       "Name: count, dtype: int64"
      ]
     },
     "execution_count": 20,
     "metadata": {},
     "output_type": "execute_result"
    }
   ],
   "source": [
    "supplies_df['pet_type'] = 'Other'\n",
    "supplies_df.loc[supplies_df['title'].str.contains('dog', case=False, na=False), 'pet_type'] = 'Dog'\n",
    "supplies_df.loc[supplies_df['title'].str.contains('cat', case=False, na=False), 'pet_type'] = 'Cat'\n",
    "supplies_df['pet_type'].value_counts()\n"
   ]
  },
  {
   "cell_type": "code",
   "execution_count": 22,
   "id": "a8d91ce8-d4e6-4b3a-bf51-0e92f9a49103",
   "metadata": {},
   "outputs": [
    {
     "name": "stdout",
     "output_type": "stream",
     "text": [
      "pet_type\n",
      "Cat      1279\n",
      "Dog       658\n",
      "Other      60\n",
      "Name: count, dtype: int64\n"
     ]
    }
   ],
   "source": [
    "# Example: count of pet types\n",
    "print(supplies_df['pet_type'].value_counts())\n"
   ]
  },
  {
   "cell_type": "code",
   "execution_count": 23,
   "id": "df054ad0-1cab-4be1-a37c-d124e9068b37",
   "metadata": {},
   "outputs": [],
   "source": [
    "breed_info['height_in'] = (breed_info['height_']\n",
    "                           .astype(str)                  # make sure it's string\n",
    "                           .str.split('-')               # split on dash if range\n",
    "                           .str[0]                       # take the first number\n",
    "                           .str.extract(r'(\\d+)')        # ✅ raw string for regex\n",
    "                           .astype(float))               # convert to float"
   ]
  },
  {
   "cell_type": "code",
   "execution_count": 24,
   "id": "01b8a0f8-cc39-4ba5-99d3-f4482da15940",
   "metadata": {},
   "outputs": [
    {
     "ename": "SyntaxError",
     "evalue": "invalid syntax (4125285532.py, line 5)",
     "output_type": "error",
     "traceback": [
      "\u001b[1;36m  Cell \u001b[1;32mIn[24], line 5\u001b[1;36m\u001b[0m\n\u001b[1;33m    ```python\u001b[0m\n\u001b[1;37m    ^\u001b[0m\n\u001b[1;31mSyntaxError\u001b[0m\u001b[1;31m:\u001b[0m invalid syntax\n"
     ]
    }
   ],
   "source": [
    "# Example: count of pet types\n",
    "print(supplies_df['pet_type'].value_counts())\n",
    "\n",
    "# Example: histogram of sold_count\n",
    "```python\n",
    "# import matplotlib.pyplot as plt\n",
    "# supplies_df['sold_count'].hist(bins=20)\n",
    "# plt.title(\"Distribution of Units Sold\")\n",
    "# plt.xlabel(\"Sold Count\")\n",
    "# plt.ylabel(\"Frequency\")\n"
   ]
  },
  {
   "cell_type": "code",
   "execution_count": 25,
   "id": "ff38fa81-ffb9-42c1-971a-03372dcc9d3e",
   "metadata": {},
   "outputs": [],
   "source": [
    "breed_info['height_in'] = (breed_info['height_']\n",
    "                           .astype(str)                  \n",
    "                           .str.split('-')               \n",
    "                           .str[0]                       \n",
    "                           .str.extract(r'(\\d+)')        \n",
    "                           .astype(float)) "
   ]
  },
  {
   "cell_type": "code",
   "execution_count": 26,
   "id": "bbcfa8ba-666e-4768-8757-c240f46e4760",
   "metadata": {},
   "outputs": [
    {
     "data": {
      "text/html": [
       "<div>\n",
       "<style scoped>\n",
       "    .dataframe tbody tr th:only-of-type {\n",
       "        vertical-align: middle;\n",
       "    }\n",
       "\n",
       "    .dataframe tbody tr th {\n",
       "        vertical-align: top;\n",
       "    }\n",
       "\n",
       "    .dataframe thead th {\n",
       "        text-align: right;\n",
       "    }\n",
       "</style>\n",
       "<table border=\"1\" class=\"dataframe\">\n",
       "  <thead>\n",
       "    <tr style=\"text-align: right;\">\n",
       "      <th></th>\n",
       "      <th>title</th>\n",
       "      <th>sold_count</th>\n",
       "    </tr>\n",
       "  </thead>\n",
       "  <tbody>\n",
       "    <tr>\n",
       "      <th>850</th>\n",
       "      <td>Pet Placemat Dog Food bowl Mat Cat Feed Mat Ca...</td>\n",
       "      <td>10000</td>\n",
       "    </tr>\n",
       "    <tr>\n",
       "      <th>1053</th>\n",
       "      <td>Soft Plush Pet Bed with Cover Round Cat Bed Pe...</td>\n",
       "      <td>10000</td>\n",
       "    </tr>\n",
       "    <tr>\n",
       "      <th>113</th>\n",
       "      <td>Dogs  Interactive Toys Soft TPR Toys for Dog P...</td>\n",
       "      <td>10000</td>\n",
       "    </tr>\n",
       "    <tr>\n",
       "      <th>297</th>\n",
       "      <td>Ultra-Quiet Cat Water Fountain Filter Smart Au...</td>\n",
       "      <td>10000</td>\n",
       "    </tr>\n",
       "    <tr>\n",
       "      <th>706</th>\n",
       "      <td>Smart Dog Toy Ball Electronic Interactive Pet ...</td>\n",
       "      <td>10000</td>\n",
       "    </tr>\n",
       "  </tbody>\n",
       "</table>\n",
       "</div>"
      ],
      "text/plain": [
       "                                                  title  sold_count\n",
       "850   Pet Placemat Dog Food bowl Mat Cat Feed Mat Ca...       10000\n",
       "1053  Soft Plush Pet Bed with Cover Round Cat Bed Pe...       10000\n",
       "113   Dogs  Interactive Toys Soft TPR Toys for Dog P...       10000\n",
       "297   Ultra-Quiet Cat Water Fountain Filter Smart Au...       10000\n",
       "706   Smart Dog Toy Ball Electronic Interactive Pet ...       10000"
      ]
     },
     "execution_count": 26,
     "metadata": {},
     "output_type": "execute_result"
    }
   ],
   "source": [
    "supplies_df.sort_values('sold_count', ascending=False).head(5)[['title','sold_count']]\n"
   ]
  },
  {
   "cell_type": "code",
   "execution_count": 27,
   "id": "af3c4336-a5be-42fe-ae12-aa1cffe5ac05",
   "metadata": {},
   "outputs": [
    {
     "name": "stdout",
     "output_type": "stream",
     "text": [
      "breed_primary\n",
      "Pit Bull Terrier                  7890\n",
      "Labrador Retriever                7198\n",
      "Chihuahua                         3766\n",
      "Mixed Breed                       3242\n",
      "Terrier                           2641\n",
      "Hound                             2282\n",
      "German Shepherd Dog               2122\n",
      "Boxer                             2050\n",
      "Shepherd                          1972\n",
      "American Staffordshire Terrier    1862\n",
      "Name: count, dtype: int64\n"
     ]
    }
   ],
   "source": [
    "top_breeds = dog_merged['breed_primary'].value_counts().head(10)\n",
    "print(top_breeds)\n"
   ]
  },
  {
   "cell_type": "code",
   "execution_count": 28,
   "id": "cf153d4a-5611-4645-a570-93262d0e26fa",
   "metadata": {},
   "outputs": [
    {
     "name": "stdout",
     "output_type": "stream",
     "text": [
      "Top words in descriptions: [('with', 106600), ('will', 54966), ('adoption', 51885), ('that', 46774), ('please', 43927), ('dogs', 41185), ('have', 39385), ('this', 38948), ('home', 34000), ('your', 33712)]\n"
     ]
    }
   ],
   "source": [
    "from collections import Counter\n",
    "text = \" \".join(dog_merged['description'].dropna().str.lower().values)\n",
    "words = [w for w in text.split() if len(w)>3]\n",
    "common = Counter(words).most_common(10)\n",
    "print(\"Top words in descriptions:\", common)\n"
   ]
  },
  {
   "cell_type": "code",
   "execution_count": 29,
   "id": "5244ee9a-26f3-4d98-ac79-44cbfb28f913",
   "metadata": {},
   "outputs": [
    {
     "name": "stdout",
     "output_type": "stream",
     "text": [
      "{'Pit Bull Terrier': 0, 'Labrador Retriever': 0, 'Chihuahua': 45, 'Mixed Breed': 0, 'Terrier': 1, 'Hound': 1, 'German Shepherd Dog': 0, 'Boxer': 0, 'Shepherd': 5, 'American Staffordshire Terrier': 0}\n"
     ]
    }
   ],
   "source": [
    "breed_mention_counts = {}\n",
    "for breed in top_breeds.index:\n",
    "    cnt = supplies_df['title'].str.contains(breed, case=False, na=False).sum()\n",
    "    breed_mention_counts[breed] = cnt\n",
    "print(breed_mention_counts)\n"
   ]
  },
  {
   "cell_type": "code",
   "execution_count": 30,
   "id": "4b4fbd90-67b7-4312-b6c2-6d41a5c296b9",
   "metadata": {},
   "outputs": [],
   "source": [
    "dog_merged.to_csv('cleaned_dog_descriptions.csv', index=False)\n",
    "breed_info.to_csv('cleaned_dog_breeds.csv', index=False)\n",
    "supplies_df.to_csv('cleaned_pet_supplies.csv', index=False)\n"
   ]
  },
  {
   "cell_type": "code",
   "execution_count": 31,
   "id": "607e896c-d783-4126-8869-d7c1f866c604",
   "metadata": {},
   "outputs": [
    {
     "ename": "NameError",
     "evalue": "name 'dogs' is not defined",
     "output_type": "error",
     "traceback": [
      "\u001b[1;31m---------------------------------------------------------------------------\u001b[0m",
      "\u001b[1;31mNameError\u001b[0m                                 Traceback (most recent call last)",
      "Cell \u001b[1;32mIn[31], line 2\u001b[0m\n\u001b[0;32m      1\u001b[0m \u001b[38;5;66;03m# Quick stats\u001b[39;00m\n\u001b[1;32m----> 2\u001b[0m dogs[\u001b[38;5;124m'\u001b[39m\u001b[38;5;124mbreed\u001b[39m\u001b[38;5;124m'\u001b[39m]\u001b[38;5;241m.\u001b[39mvalue_counts()\u001b[38;5;241m.\u001b[39mhead(\u001b[38;5;241m10\u001b[39m)   \u001b[38;5;66;03m# top 10 breeds\u001b[39;00m\n\u001b[0;32m      3\u001b[0m dogs[\u001b[38;5;124m'\u001b[39m\u001b[38;5;124mage\u001b[39m\u001b[38;5;124m'\u001b[39m]\u001b[38;5;241m.\u001b[39mvalue_counts()\n\u001b[0;32m      4\u001b[0m dogs[\u001b[38;5;124m'\u001b[39m\u001b[38;5;124mlocation\u001b[39m\u001b[38;5;124m'\u001b[39m]\u001b[38;5;241m.\u001b[39mvalue_counts()\u001b[38;5;241m.\u001b[39mhead(\u001b[38;5;241m10\u001b[39m)\n",
      "\u001b[1;31mNameError\u001b[0m: name 'dogs' is not defined"
     ]
    }
   ],
   "source": [
    "# Quick stats\n",
    "dogs['breed'].value_counts().head(10)   # top 10 breeds\n",
    "dogs['age'].value_counts()\n",
    "dogs['location'].value_counts().head(10)\n"
   ]
  },
  {
   "cell_type": "code",
   "execution_count": 32,
   "id": "5bb12c8b-596d-471c-b1ae-c86e395fcb80",
   "metadata": {},
   "outputs": [
    {
     "name": "stdout",
     "output_type": "stream",
     "text": [
      "   index        id org_id                                                url  \\\n",
      "0      0  46042150  NV163  https://www.petfinder.com/dog/harley-46042150/...   \n",
      "1      1  46042002  NV163  https://www.petfinder.com/dog/biggie-46042002/...   \n",
      "2      2  46040898   NV99  https://www.petfinder.com/dog/ziggy-46040898/n...   \n",
      "3      3  46039877  NV202  https://www.petfinder.com/dog/gypsy-46039877/n...   \n",
      "4      4  46039306  NV184  https://www.petfinder.com/dog/theo-46039306/nv...   \n",
      "\n",
      "  type.x species                   breed_primary breed_secondary  breed_mixed  \\\n",
      "0    Dog     Dog  American Staffordshire Terrier     Mixed Breed         True   \n",
      "1    Dog     Dog                Pit Bull Terrier     Mixed Breed         True   \n",
      "2    Dog     Dog                        Shepherd             NaN        False   \n",
      "3    Dog     Dog             German Shepherd Dog             NaN        False   \n",
      "4    Dog     Dog                       Dachshund             NaN        False   \n",
      "\n",
      "   breed_unknown  ...     status                    posted contact_city  \\\n",
      "0          False  ...  adoptable  2019-09-20T16:37:59+0000    Las Vegas   \n",
      "1          False  ...  adoptable  2019-09-20T16:24:57+0000    Las Vegas   \n",
      "2          False  ...  adoptable  2019-09-20T14:10:11+0000     Mesquite   \n",
      "3          False  ...  adoptable  2019-09-20T10:08:22+0000      Pahrump   \n",
      "4          False  ...  adoptable  2019-09-20T06:48:30+0000    Henderson   \n",
      "\n",
      "  contact_state contact_zip contact_country stateQ    accessed  type.y  \\\n",
      "0            NV       89147              US  89009  2019-09-20     Dog   \n",
      "1            NV       89147              US  89009  2019-09-20     Dog   \n",
      "2            NV       89027              US  89009  2019-09-20     Dog   \n",
      "3            NV       89048              US  89009  2019-09-20     Dog   \n",
      "4            NV       89052              US  89009  2019-09-20     Dog   \n",
      "\n",
      "                                         description  \n",
      "0  Harley is not sure how he wound up at shelter ...  \n",
      "1  6 year old Biggie has lost his home and really...  \n",
      "2  Approx 2 years old.\\n Did I catch your eye? I ...  \n",
      "3                                                NaN  \n",
      "4  Theo is a friendly dachshund mix who gets alon...  \n",
      "\n",
      "[5 rows x 36 columns]\n",
      "Index(['index', 'id', 'org_id', 'url', 'type.x', 'species', 'breed_primary',\n",
      "       'breed_secondary', 'breed_mixed', 'breed_unknown', 'color_primary',\n",
      "       'color_secondary', 'color_tertiary', 'age', 'sex', 'size', 'coat',\n",
      "       'fixed', 'house_trained', 'declawed', 'special_needs', 'shots_current',\n",
      "       'env_children', 'env_dogs', 'env_cats', 'name', 'status', 'posted',\n",
      "       'contact_city', 'contact_state', 'contact_zip', 'contact_country',\n",
      "       'stateQ', 'accessed', 'type.y', 'description'],\n",
      "      dtype='object')\n"
     ]
    }
   ],
   "source": [
    "# Load your adoption dataset\n",
    "dogs = pd.read_csv(\"allDogDescriptions.csv\")\n",
    "\n",
    "# Peek at the data\n",
    "print(dogs.head())\n",
    "print(dogs.columns)"
   ]
  },
  {
   "cell_type": "code",
   "execution_count": 33,
   "id": "320b4b43-82cb-4e92-863d-a8256d2c9fd1",
   "metadata": {},
   "outputs": [
    {
     "ename": "KeyError",
     "evalue": "'breed'",
     "output_type": "error",
     "traceback": [
      "\u001b[1;31m---------------------------------------------------------------------------\u001b[0m",
      "\u001b[1;31mKeyError\u001b[0m                                  Traceback (most recent call last)",
      "File \u001b[1;32m~\\anaconda3\\Lib\\site-packages\\pandas\\core\\indexes\\base.py:3805\u001b[0m, in \u001b[0;36mIndex.get_loc\u001b[1;34m(self, key)\u001b[0m\n\u001b[0;32m   3804\u001b[0m \u001b[38;5;28;01mtry\u001b[39;00m:\n\u001b[1;32m-> 3805\u001b[0m     \u001b[38;5;28;01mreturn\u001b[39;00m \u001b[38;5;28mself\u001b[39m\u001b[38;5;241m.\u001b[39m_engine\u001b[38;5;241m.\u001b[39mget_loc(casted_key)\n\u001b[0;32m   3806\u001b[0m \u001b[38;5;28;01mexcept\u001b[39;00m \u001b[38;5;167;01mKeyError\u001b[39;00m \u001b[38;5;28;01mas\u001b[39;00m err:\n",
      "File \u001b[1;32mindex.pyx:167\u001b[0m, in \u001b[0;36mpandas._libs.index.IndexEngine.get_loc\u001b[1;34m()\u001b[0m\n",
      "File \u001b[1;32mindex.pyx:196\u001b[0m, in \u001b[0;36mpandas._libs.index.IndexEngine.get_loc\u001b[1;34m()\u001b[0m\n",
      "File \u001b[1;32mpandas\\\\_libs\\\\hashtable_class_helper.pxi:7081\u001b[0m, in \u001b[0;36mpandas._libs.hashtable.PyObjectHashTable.get_item\u001b[1;34m()\u001b[0m\n",
      "File \u001b[1;32mpandas\\\\_libs\\\\hashtable_class_helper.pxi:7089\u001b[0m, in \u001b[0;36mpandas._libs.hashtable.PyObjectHashTable.get_item\u001b[1;34m()\u001b[0m\n",
      "\u001b[1;31mKeyError\u001b[0m: 'breed'",
      "\nThe above exception was the direct cause of the following exception:\n",
      "\u001b[1;31mKeyError\u001b[0m                                  Traceback (most recent call last)",
      "Cell \u001b[1;32mIn[33], line 2\u001b[0m\n\u001b[0;32m      1\u001b[0m \u001b[38;5;66;03m# Top 10 breeds\u001b[39;00m\n\u001b[1;32m----> 2\u001b[0m dogs[\u001b[38;5;124m'\u001b[39m\u001b[38;5;124mbreed\u001b[39m\u001b[38;5;124m'\u001b[39m]\u001b[38;5;241m.\u001b[39mvalue_counts()\u001b[38;5;241m.\u001b[39mhead(\u001b[38;5;241m10\u001b[39m)\n\u001b[0;32m      4\u001b[0m \u001b[38;5;66;03m# Age distribution\u001b[39;00m\n\u001b[0;32m      5\u001b[0m dogs[\u001b[38;5;124m'\u001b[39m\u001b[38;5;124mage\u001b[39m\u001b[38;5;124m'\u001b[39m]\u001b[38;5;241m.\u001b[39mvalue_counts()\n",
      "File \u001b[1;32m~\\anaconda3\\Lib\\site-packages\\pandas\\core\\frame.py:4102\u001b[0m, in \u001b[0;36mDataFrame.__getitem__\u001b[1;34m(self, key)\u001b[0m\n\u001b[0;32m   4100\u001b[0m \u001b[38;5;28;01mif\u001b[39;00m \u001b[38;5;28mself\u001b[39m\u001b[38;5;241m.\u001b[39mcolumns\u001b[38;5;241m.\u001b[39mnlevels \u001b[38;5;241m>\u001b[39m \u001b[38;5;241m1\u001b[39m:\n\u001b[0;32m   4101\u001b[0m     \u001b[38;5;28;01mreturn\u001b[39;00m \u001b[38;5;28mself\u001b[39m\u001b[38;5;241m.\u001b[39m_getitem_multilevel(key)\n\u001b[1;32m-> 4102\u001b[0m indexer \u001b[38;5;241m=\u001b[39m \u001b[38;5;28mself\u001b[39m\u001b[38;5;241m.\u001b[39mcolumns\u001b[38;5;241m.\u001b[39mget_loc(key)\n\u001b[0;32m   4103\u001b[0m \u001b[38;5;28;01mif\u001b[39;00m is_integer(indexer):\n\u001b[0;32m   4104\u001b[0m     indexer \u001b[38;5;241m=\u001b[39m [indexer]\n",
      "File \u001b[1;32m~\\anaconda3\\Lib\\site-packages\\pandas\\core\\indexes\\base.py:3812\u001b[0m, in \u001b[0;36mIndex.get_loc\u001b[1;34m(self, key)\u001b[0m\n\u001b[0;32m   3807\u001b[0m     \u001b[38;5;28;01mif\u001b[39;00m \u001b[38;5;28misinstance\u001b[39m(casted_key, \u001b[38;5;28mslice\u001b[39m) \u001b[38;5;129;01mor\u001b[39;00m (\n\u001b[0;32m   3808\u001b[0m         \u001b[38;5;28misinstance\u001b[39m(casted_key, abc\u001b[38;5;241m.\u001b[39mIterable)\n\u001b[0;32m   3809\u001b[0m         \u001b[38;5;129;01mand\u001b[39;00m \u001b[38;5;28many\u001b[39m(\u001b[38;5;28misinstance\u001b[39m(x, \u001b[38;5;28mslice\u001b[39m) \u001b[38;5;28;01mfor\u001b[39;00m x \u001b[38;5;129;01min\u001b[39;00m casted_key)\n\u001b[0;32m   3810\u001b[0m     ):\n\u001b[0;32m   3811\u001b[0m         \u001b[38;5;28;01mraise\u001b[39;00m InvalidIndexError(key)\n\u001b[1;32m-> 3812\u001b[0m     \u001b[38;5;28;01mraise\u001b[39;00m \u001b[38;5;167;01mKeyError\u001b[39;00m(key) \u001b[38;5;28;01mfrom\u001b[39;00m \u001b[38;5;21;01merr\u001b[39;00m\n\u001b[0;32m   3813\u001b[0m \u001b[38;5;28;01mexcept\u001b[39;00m \u001b[38;5;167;01mTypeError\u001b[39;00m:\n\u001b[0;32m   3814\u001b[0m     \u001b[38;5;66;03m# If we have a listlike key, _check_indexing_error will raise\u001b[39;00m\n\u001b[0;32m   3815\u001b[0m     \u001b[38;5;66;03m#  InvalidIndexError. Otherwise we fall through and re-raise\u001b[39;00m\n\u001b[0;32m   3816\u001b[0m     \u001b[38;5;66;03m#  the TypeError.\u001b[39;00m\n\u001b[0;32m   3817\u001b[0m     \u001b[38;5;28mself\u001b[39m\u001b[38;5;241m.\u001b[39m_check_indexing_error(key)\n",
      "\u001b[1;31mKeyError\u001b[0m: 'breed'"
     ]
    }
   ],
   "source": [
    "# Top 10 breeds\n",
    "dogs['breed'].value_counts().head(10)\n",
    "\n",
    "# Age distribution\n",
    "dogs['age'].value_counts()\n",
    "\n",
    "# Top 10 locations\n",
    "dogs['location'].value_counts().head(10)\n"
   ]
  },
  {
   "cell_type": "code",
   "execution_count": 34,
   "id": "0821e023-ba71-4932-9f1e-5ef6a9dff0c3",
   "metadata": {},
   "outputs": [
    {
     "data": {
      "text/plain": [
       "Index(['index', 'id', 'org_id', 'url', 'type.x', 'species', 'breed_primary',\n",
       "       'breed_secondary', 'breed_mixed', 'breed_unknown', 'color_primary',\n",
       "       'color_secondary', 'color_tertiary', 'age', 'sex', 'size', 'coat',\n",
       "       'fixed', 'house_trained', 'declawed', 'special_needs', 'shots_current',\n",
       "       'env_children', 'env_dogs', 'env_cats', 'name', 'status', 'posted',\n",
       "       'contact_city', 'contact_state', 'contact_zip', 'contact_country',\n",
       "       'stateQ', 'accessed', 'type.y', 'description'],\n",
       "      dtype='object')"
      ]
     },
     "execution_count": 34,
     "metadata": {},
     "output_type": "execute_result"
    }
   ],
   "source": [
    "dogs.columns\n"
   ]
  },
  {
   "cell_type": "code",
   "execution_count": 35,
   "id": "80cbab50-efa5-4433-81fa-c0a99d35f760",
   "metadata": {},
   "outputs": [
    {
     "data": {
      "text/plain": [
       "breed_primary\n",
       "Pit Bull Terrier                  7890\n",
       "Labrador Retriever                7198\n",
       "Chihuahua                         3766\n",
       "Mixed Breed                       3242\n",
       "Terrier                           2641\n",
       "Hound                             2282\n",
       "German Shepherd Dog               2122\n",
       "Boxer                             2050\n",
       "Shepherd                          1972\n",
       "American Staffordshire Terrier    1862\n",
       "Name: count, dtype: int64"
      ]
     },
     "execution_count": 35,
     "metadata": {},
     "output_type": "execute_result"
    }
   ],
   "source": [
    "dogs['breed_primary'].value_counts().head(10)\n"
   ]
  },
  {
   "cell_type": "code",
   "execution_count": 36,
   "id": "e93d4c92-7d95-4a6d-8adf-bc0fdb670fc6",
   "metadata": {},
   "outputs": [
    {
     "data": {
      "text/plain": [
       "age\n",
       "Adult     27955\n",
       "Young     16194\n",
       "Baby       9397\n",
       "Senior     4634\n",
       "Name: count, dtype: int64"
      ]
     },
     "execution_count": 36,
     "metadata": {},
     "output_type": "execute_result"
    }
   ],
   "source": [
    "dogs['age'].value_counts()\n"
   ]
  },
  {
   "cell_type": "code",
   "execution_count": 37,
   "id": "36082fac-2dd8-40e7-910b-547926e4a696",
   "metadata": {},
   "outputs": [
    {
     "data": {
      "text/plain": [
       "sex\n",
       "Male       30294\n",
       "Female     27883\n",
       "Unknown        3\n",
       "Name: count, dtype: int64"
      ]
     },
     "execution_count": 37,
     "metadata": {},
     "output_type": "execute_result"
    }
   ],
   "source": [
    "dogs['sex'].value_counts()\n"
   ]
  },
  {
   "cell_type": "code",
   "execution_count": 38,
   "id": "0561fe66-1914-4254-b55b-464df99e2ba1",
   "metadata": {},
   "outputs": [
    {
     "data": {
      "text/plain": [
       "status\n",
       "adoptable                   58147\n",
       "2017-06-16T18:44:33+0000        1\n",
       "2019-07-25T19:53:21+0000        1\n",
       "2015-06-29T23:58:09+0000        1\n",
       "2015-02-07T13:06:43+0000        1\n",
       "2019-09-20T01:50:51+0000        1\n",
       "2019-02-18T12:02:48+0000        1\n",
       "2013-10-10T13:57:39+0000        1\n",
       "2015-12-25T12:28:30+0000        1\n",
       "2018-04-05T05:18:31+0000        1\n",
       "2019-09-13T06:08:17+0000        1\n",
       "2019-09-10T16:43:35+0000        1\n",
       "2019-09-09T17:05:17+0000        1\n",
       "2019-08-24T16:32:31+0000        1\n",
       "2019-07-31T16:21:07+0000        1\n",
       "2019-07-29T21:50:16+0000        1\n",
       "2019-09-08T18:21:21+0000        1\n",
       "2018-04-18T13:45:46+0000        1\n",
       "2019-04-25T01:56:52+0000        1\n",
       "2019-09-13T19:39:28+0000        1\n",
       "2019-09-07T04:09:12+0000        1\n",
       "2017-10-07T23:48:20+0000        1\n",
       "2018-07-05T00:55:08+0000        1\n",
       "2015-09-07T12:57:27+0000        1\n",
       "2016-12-15T13:33:43+0000        1\n",
       "2019-05-14T21:09:27+0000        1\n",
       "2019-08-10T16:00:35+0000        1\n",
       "2019-07-11T14:16:38+0000        1\n",
       "2019-07-11T20:34:42+0000        1\n",
       "2019-07-18T14:20:58+0000        1\n",
       "2019-08-06T12:15:58+0000        1\n",
       "2019-09-01T15:12:06+0000        1\n",
       "2017-05-26T21:43:16+0000        1\n",
       "2019-07-15T16:57:05+0000        1\n",
       "Name: count, dtype: int64"
      ]
     },
     "execution_count": 38,
     "metadata": {},
     "output_type": "execute_result"
    }
   ],
   "source": [
    "dogs['status'].value_counts()\n"
   ]
  },
  {
   "cell_type": "code",
   "execution_count": 39,
   "id": "af33d080-f5f7-457b-841e-0a6cd9a1b005",
   "metadata": {},
   "outputs": [
    {
     "data": {
      "text/plain": [
       "contact_city\n",
       "Phoenix        756\n",
       "Atlanta        710\n",
       "Las Vegas      604\n",
       "New York       589\n",
       "Chamblee       495\n",
       "Albuquerque    452\n",
       "Seattle        436\n",
       "Columbia       432\n",
       "Washington     417\n",
       "Columbus       414\n",
       "Name: count, dtype: int64"
      ]
     },
     "execution_count": 39,
     "metadata": {},
     "output_type": "execute_result"
    }
   ],
   "source": [
    "dogs['contact_city'].value_counts().head(10)\n"
   ]
  },
  {
   "cell_type": "code",
   "execution_count": 40,
   "id": "e6e71439-b3c7-43e7-b88f-d61c63d54aca",
   "metadata": {},
   "outputs": [
    {
     "data": {
      "text/html": [
       "<div>\n",
       "<style scoped>\n",
       "    .dataframe tbody tr th:only-of-type {\n",
       "        vertical-align: middle;\n",
       "    }\n",
       "\n",
       "    .dataframe tbody tr th {\n",
       "        vertical-align: top;\n",
       "    }\n",
       "\n",
       "    .dataframe thead th {\n",
       "        text-align: right;\n",
       "    }\n",
       "</style>\n",
       "<table border=\"1\" class=\"dataframe\">\n",
       "  <thead>\n",
       "    <tr style=\"text-align: right;\">\n",
       "      <th></th>\n",
       "      <th>breed</th>\n",
       "      <th>height_in</th>\n",
       "      <th>size_category</th>\n",
       "    </tr>\n",
       "  </thead>\n",
       "  <tbody>\n",
       "    <tr>\n",
       "      <th>0</th>\n",
       "      <td>Labrador Retriever</td>\n",
       "      <td>21.0</td>\n",
       "      <td>Medium</td>\n",
       "    </tr>\n",
       "    <tr>\n",
       "      <th>1</th>\n",
       "      <td>German Shepherd</td>\n",
       "      <td>22.0</td>\n",
       "      <td>Medium</td>\n",
       "    </tr>\n",
       "    <tr>\n",
       "      <th>2</th>\n",
       "      <td>Bulldog</td>\n",
       "      <td>12.0</td>\n",
       "      <td>Small</td>\n",
       "    </tr>\n",
       "    <tr>\n",
       "      <th>3</th>\n",
       "      <td>Poodle</td>\n",
       "      <td>10.0</td>\n",
       "      <td>Small</td>\n",
       "    </tr>\n",
       "    <tr>\n",
       "      <th>4</th>\n",
       "      <td>Beagle</td>\n",
       "      <td>13.0</td>\n",
       "      <td>Small</td>\n",
       "    </tr>\n",
       "  </tbody>\n",
       "</table>\n",
       "</div>"
      ],
      "text/plain": [
       "                breed  height_in size_category\n",
       "0  Labrador Retriever       21.0        Medium\n",
       "1     German Shepherd       22.0        Medium\n",
       "2             Bulldog       12.0         Small\n",
       "3              Poodle       10.0         Small\n",
       "4              Beagle       13.0         Small"
      ]
     },
     "execution_count": 40,
     "metadata": {},
     "output_type": "execute_result"
    }
   ],
   "source": [
    "def size_category(h):\n",
    "    if h < 15:\n",
    "        return 'Small'\n",
    "    elif h < 25:\n",
    "        return 'Medium'\n",
    "    else:\n",
    "        return 'Large'\n",
    "\n",
    "breed_info['size_category'] = breed_info['height_in'].apply(size_category)\n",
    "breed_info[['breed', 'height_in', 'size_category']].head()\n"
   ]
  },
  {
   "cell_type": "code",
   "execution_count": 41,
   "id": "b609cdff-eeda-4b7a-8b17-cbd95b28b27b",
   "metadata": {},
   "outputs": [
    {
     "ename": "NameError",
     "evalue": "name 'spending' is not defined",
     "output_type": "error",
     "traceback": [
      "\u001b[1;31m---------------------------------------------------------------------------\u001b[0m",
      "\u001b[1;31mNameError\u001b[0m                                 Traceback (most recent call last)",
      "Cell \u001b[1;32mIn[41], line 1\u001b[0m\n\u001b[1;32m----> 1\u001b[0m spending[\u001b[38;5;124m'\u001b[39m\u001b[38;5;124mcategory\u001b[39m\u001b[38;5;124m'\u001b[39m]\u001b[38;5;241m.\u001b[39mvalue_counts()\n\u001b[0;32m      2\u001b[0m spending\u001b[38;5;241m.\u001b[39mgroupby(\u001b[38;5;124m'\u001b[39m\u001b[38;5;124mcategory\u001b[39m\u001b[38;5;124m'\u001b[39m)[\u001b[38;5;124m'\u001b[39m\u001b[38;5;124mprice\u001b[39m\u001b[38;5;124m'\u001b[39m]\u001b[38;5;241m.\u001b[39mmean()\u001b[38;5;241m.\u001b[39msort_values(ascending\u001b[38;5;241m=\u001b[39m\u001b[38;5;28;01mFalse\u001b[39;00m)\n",
      "\u001b[1;31mNameError\u001b[0m: name 'spending' is not defined"
     ]
    }
   ],
   "source": [
    "spending['category'].value_counts()\n",
    "spending.groupby('category')['price'].mean().sort_values(ascending=False)\n"
   ]
  },
  {
   "cell_type": "code",
   "execution_count": 42,
   "id": "28b6716d-612a-4a62-a7a9-9daa48d87530",
   "metadata": {},
   "outputs": [
    {
     "name": "stdout",
     "output_type": "stream",
     "text": [
      "                                               title  averageStar  quantity  \\\n",
      "0  Mesh Litter Spatula Poop Remover Pet Cleaning ...          0.0      9993   \n",
      "1  Rechargeable Mini Pet Communication Small Reco...          5.0      1986   \n",
      "2  Dog Cooling Bed Mat Summer Puppy Cushion Soft ...          4.5       529   \n",
      "3  Automatic Pet Feeder with Active RFID Technolo...          0.0        10   \n",
      "4  Replace Plush Cat Toy Accessories Worms Replac...          4.9    102222   \n",
      "\n",
      "   tradeAmount  wishedCount  \n",
      "0       5 sold            0  \n",
      "1      28 sold           64  \n",
      "2      20 sold           38  \n",
      "3       0 sold            1  \n",
      "4  1,000+ sold          418  \n",
      "Index(['title', 'averageStar', 'quantity', 'tradeAmount', 'wishedCount'], dtype='object')\n"
     ]
    }
   ],
   "source": [
    "spending = pd.read_csv(\"aliexpress_pet_supplies.csv\")\n",
    "\n",
    "# Peek at the data\n",
    "print(spending.head())\n",
    "print(spending.columns)"
   ]
  },
  {
   "cell_type": "code",
   "execution_count": 47,
   "id": "dc20133d-3c9a-4728-917f-57db3548a071",
   "metadata": {},
   "outputs": [
    {
     "name": "stdout",
     "output_type": "stream",
     "text": [
      "Index(['index', 'id', 'org_id', 'url', 'type.x', 'species', 'breed_primary',\n",
      "       'breed_secondary', 'breed_mixed', 'breed_unknown', 'color_primary',\n",
      "       'color_secondary', 'color_tertiary', 'age', 'sex', 'size', 'coat',\n",
      "       'fixed', 'house_trained', 'declawed', 'special_needs', 'shots_current',\n",
      "       'env_children', 'env_dogs', 'env_cats', 'name', 'status', 'posted',\n",
      "       'contact_city', 'contact_state', 'contact_zip', 'contact_country',\n",
      "       'stateQ', 'accessed', 'type.y', 'description'],\n",
      "      dtype='object')\n",
      "Index(['Breed', 'Country of Origin', 'Fur Color', 'Height (in)',\n",
      "       'Color of Eyes', 'Longevity (yrs)', 'Character Traits',\n",
      "       'Common Health Problems'],\n",
      "      dtype='object')\n",
      "Index(['title', 'averageStar', 'quantity', 'tradeAmount', 'wishedCount'], dtype='object')\n"
     ]
    }
   ],
   "source": [
    "# Load datasets\n",
    "dogs = pd.read_csv(\"allDogDescriptions.csv\")\n",
    "breed_info = pd.read_csv(\"dog_breeds.csv\")\n",
    "spending = pd.read_csv(\"aliexpress_pet_supplies.csv\")\n",
    "\n",
    "# Check structure\n",
    "print(dogs.columns)\n",
    "print(breed_info.columns)\n",
    "print(spending.columns)\n",
    "\n"
   ]
  },
  {
   "cell_type": "code",
   "execution_count": 48,
   "id": "bd3f83b3-0930-4dfe-a5fa-8a374fb57474",
   "metadata": {},
   "outputs": [],
   "source": [
    "# Drop duplicates & NA values\n",
    "dogs = dogs.drop_duplicates()\n",
    "dogs = dogs.dropna(subset=['breed_primary', 'status'])\n",
    "\n"
   ]
  },
  {
   "cell_type": "code",
   "execution_count": 49,
   "id": "0c57f3a3-dcb8-4528-aeb4-6f0579474052",
   "metadata": {},
   "outputs": [
    {
     "ename": "KeyError",
     "evalue": "'height_'",
     "output_type": "error",
     "traceback": [
      "\u001b[1;31m---------------------------------------------------------------------------\u001b[0m",
      "\u001b[1;31mKeyError\u001b[0m                                  Traceback (most recent call last)",
      "File \u001b[1;32m~\\anaconda3\\Lib\\site-packages\\pandas\\core\\indexes\\base.py:3805\u001b[0m, in \u001b[0;36mIndex.get_loc\u001b[1;34m(self, key)\u001b[0m\n\u001b[0;32m   3804\u001b[0m \u001b[38;5;28;01mtry\u001b[39;00m:\n\u001b[1;32m-> 3805\u001b[0m     \u001b[38;5;28;01mreturn\u001b[39;00m \u001b[38;5;28mself\u001b[39m\u001b[38;5;241m.\u001b[39m_engine\u001b[38;5;241m.\u001b[39mget_loc(casted_key)\n\u001b[0;32m   3806\u001b[0m \u001b[38;5;28;01mexcept\u001b[39;00m \u001b[38;5;167;01mKeyError\u001b[39;00m \u001b[38;5;28;01mas\u001b[39;00m err:\n",
      "File \u001b[1;32mindex.pyx:167\u001b[0m, in \u001b[0;36mpandas._libs.index.IndexEngine.get_loc\u001b[1;34m()\u001b[0m\n",
      "File \u001b[1;32mindex.pyx:196\u001b[0m, in \u001b[0;36mpandas._libs.index.IndexEngine.get_loc\u001b[1;34m()\u001b[0m\n",
      "File \u001b[1;32mpandas\\\\_libs\\\\hashtable_class_helper.pxi:7081\u001b[0m, in \u001b[0;36mpandas._libs.hashtable.PyObjectHashTable.get_item\u001b[1;34m()\u001b[0m\n",
      "File \u001b[1;32mpandas\\\\_libs\\\\hashtable_class_helper.pxi:7089\u001b[0m, in \u001b[0;36mpandas._libs.hashtable.PyObjectHashTable.get_item\u001b[1;34m()\u001b[0m\n",
      "\u001b[1;31mKeyError\u001b[0m: 'height_'",
      "\nThe above exception was the direct cause of the following exception:\n",
      "\u001b[1;31mKeyError\u001b[0m                                  Traceback (most recent call last)",
      "Cell \u001b[1;32mIn[49], line 2\u001b[0m\n\u001b[0;32m      1\u001b[0m \u001b[38;5;66;03m# Clean height and convert to numeric\u001b[39;00m\n\u001b[1;32m----> 2\u001b[0m breed_info[\u001b[38;5;124m'\u001b[39m\u001b[38;5;124mheight_in\u001b[39m\u001b[38;5;124m'\u001b[39m] \u001b[38;5;241m=\u001b[39m (breed_info[\u001b[38;5;124m'\u001b[39m\u001b[38;5;124mheight_\u001b[39m\u001b[38;5;124m'\u001b[39m]\n\u001b[0;32m      3\u001b[0m                            \u001b[38;5;241m.\u001b[39mastype(\u001b[38;5;28mstr\u001b[39m)\n\u001b[0;32m      4\u001b[0m                            \u001b[38;5;241m.\u001b[39mstr\u001b[38;5;241m.\u001b[39msplit(\u001b[38;5;124m'\u001b[39m\u001b[38;5;124m-\u001b[39m\u001b[38;5;124m'\u001b[39m)\u001b[38;5;241m.\u001b[39mstr[\u001b[38;5;241m0\u001b[39m]\n\u001b[0;32m      5\u001b[0m                            \u001b[38;5;241m.\u001b[39mstr\u001b[38;5;241m.\u001b[39mextract(\u001b[38;5;124mr\u001b[39m\u001b[38;5;124m'\u001b[39m\u001b[38;5;124m(\u001b[39m\u001b[38;5;124m\\\u001b[39m\u001b[38;5;124md+)\u001b[39m\u001b[38;5;124m'\u001b[39m)\n\u001b[0;32m      6\u001b[0m                            \u001b[38;5;241m.\u001b[39mastype(\u001b[38;5;28mfloat\u001b[39m))\n\u001b[0;32m      8\u001b[0m \u001b[38;5;66;03m# Create size category\u001b[39;00m\n\u001b[0;32m      9\u001b[0m \u001b[38;5;28;01mdef\u001b[39;00m \u001b[38;5;21msize_category\u001b[39m(h):\n",
      "File \u001b[1;32m~\\anaconda3\\Lib\\site-packages\\pandas\\core\\frame.py:4102\u001b[0m, in \u001b[0;36mDataFrame.__getitem__\u001b[1;34m(self, key)\u001b[0m\n\u001b[0;32m   4100\u001b[0m \u001b[38;5;28;01mif\u001b[39;00m \u001b[38;5;28mself\u001b[39m\u001b[38;5;241m.\u001b[39mcolumns\u001b[38;5;241m.\u001b[39mnlevels \u001b[38;5;241m>\u001b[39m \u001b[38;5;241m1\u001b[39m:\n\u001b[0;32m   4101\u001b[0m     \u001b[38;5;28;01mreturn\u001b[39;00m \u001b[38;5;28mself\u001b[39m\u001b[38;5;241m.\u001b[39m_getitem_multilevel(key)\n\u001b[1;32m-> 4102\u001b[0m indexer \u001b[38;5;241m=\u001b[39m \u001b[38;5;28mself\u001b[39m\u001b[38;5;241m.\u001b[39mcolumns\u001b[38;5;241m.\u001b[39mget_loc(key)\n\u001b[0;32m   4103\u001b[0m \u001b[38;5;28;01mif\u001b[39;00m is_integer(indexer):\n\u001b[0;32m   4104\u001b[0m     indexer \u001b[38;5;241m=\u001b[39m [indexer]\n",
      "File \u001b[1;32m~\\anaconda3\\Lib\\site-packages\\pandas\\core\\indexes\\base.py:3812\u001b[0m, in \u001b[0;36mIndex.get_loc\u001b[1;34m(self, key)\u001b[0m\n\u001b[0;32m   3807\u001b[0m     \u001b[38;5;28;01mif\u001b[39;00m \u001b[38;5;28misinstance\u001b[39m(casted_key, \u001b[38;5;28mslice\u001b[39m) \u001b[38;5;129;01mor\u001b[39;00m (\n\u001b[0;32m   3808\u001b[0m         \u001b[38;5;28misinstance\u001b[39m(casted_key, abc\u001b[38;5;241m.\u001b[39mIterable)\n\u001b[0;32m   3809\u001b[0m         \u001b[38;5;129;01mand\u001b[39;00m \u001b[38;5;28many\u001b[39m(\u001b[38;5;28misinstance\u001b[39m(x, \u001b[38;5;28mslice\u001b[39m) \u001b[38;5;28;01mfor\u001b[39;00m x \u001b[38;5;129;01min\u001b[39;00m casted_key)\n\u001b[0;32m   3810\u001b[0m     ):\n\u001b[0;32m   3811\u001b[0m         \u001b[38;5;28;01mraise\u001b[39;00m InvalidIndexError(key)\n\u001b[1;32m-> 3812\u001b[0m     \u001b[38;5;28;01mraise\u001b[39;00m \u001b[38;5;167;01mKeyError\u001b[39;00m(key) \u001b[38;5;28;01mfrom\u001b[39;00m \u001b[38;5;21;01merr\u001b[39;00m\n\u001b[0;32m   3813\u001b[0m \u001b[38;5;28;01mexcept\u001b[39;00m \u001b[38;5;167;01mTypeError\u001b[39;00m:\n\u001b[0;32m   3814\u001b[0m     \u001b[38;5;66;03m# If we have a listlike key, _check_indexing_error will raise\u001b[39;00m\n\u001b[0;32m   3815\u001b[0m     \u001b[38;5;66;03m#  InvalidIndexError. Otherwise we fall through and re-raise\u001b[39;00m\n\u001b[0;32m   3816\u001b[0m     \u001b[38;5;66;03m#  the TypeError.\u001b[39;00m\n\u001b[0;32m   3817\u001b[0m     \u001b[38;5;28mself\u001b[39m\u001b[38;5;241m.\u001b[39m_check_indexing_error(key)\n",
      "\u001b[1;31mKeyError\u001b[0m: 'height_'"
     ]
    }
   ],
   "source": [
    "# Clean height and convert to numeric\n",
    "breed_info['height_in'] = (breed_info['height_']\n",
    "                           .astype(str)\n",
    "                           .str.split('-').str[0]\n",
    "                           .str.extract(r'(\\d+)')\n",
    "                           .astype(float))\n",
    "\n",
    "# Create size category\n",
    "def size_category(h):\n",
    "    if h < 15: return 'Small'\n",
    "    elif h < 25: return 'Medium'\n",
    "    else: return 'Large'\n",
    "\n",
    "breed_info['size_category'] = breed_info['height_in'].apply(size_category)\n"
   ]
  },
  {
   "cell_type": "code",
   "execution_count": 50,
   "id": "4228c8e2-8ba6-4a85-a2c0-90376767233d",
   "metadata": {},
   "outputs": [
    {
     "data": {
      "text/plain": [
       "Index(['Breed', 'Country of Origin', 'Fur Color', 'Height (in)',\n",
       "       'Color of Eyes', 'Longevity (yrs)', 'Character Traits',\n",
       "       'Common Health Problems'],\n",
       "      dtype='object')"
      ]
     },
     "execution_count": 50,
     "metadata": {},
     "output_type": "execute_result"
    }
   ],
   "source": [
    "breed_info.columns\n"
   ]
  },
  {
   "cell_type": "code",
   "execution_count": 51,
   "id": "5be099f7-764d-48dd-ad72-21e74a449925",
   "metadata": {},
   "outputs": [],
   "source": [
    "# Convert height to numeric (strip non-numeric characters if any)\n",
    "breed_info['height_in'] = (\n",
    "    breed_info['Height (in)']\n",
    "    .astype(str)\n",
    "    .str.extract(r'(\\d+)')  # extract numbers\n",
    "    .astype(float)\n",
    ")\n"
   ]
  },
  {
   "cell_type": "code",
   "execution_count": 52,
   "id": "e9b90774-3cfd-4be7-80f9-f16bfe4e801e",
   "metadata": {},
   "outputs": [],
   "source": [
    "def size_category(h):\n",
    "    if pd.isna(h):\n",
    "        return \"Unknown\"\n",
    "    elif h < 15:\n",
    "        return \"Small\"\n",
    "    elif 15 <= h < 25:\n",
    "        return \"Medium\"\n",
    "    else:\n",
    "        return \"Large\"\n",
    "\n",
    "breed_info['size_category'] = breed_info['height_in'].apply(size_category)\n"
   ]
  },
  {
   "cell_type": "code",
   "execution_count": 53,
   "id": "12fff512-16f5-422d-9e1c-0d071c8967f7",
   "metadata": {},
   "outputs": [
    {
     "data": {
      "text/html": [
       "<div>\n",
       "<style scoped>\n",
       "    .dataframe tbody tr th:only-of-type {\n",
       "        vertical-align: middle;\n",
       "    }\n",
       "\n",
       "    .dataframe tbody tr th {\n",
       "        vertical-align: top;\n",
       "    }\n",
       "\n",
       "    .dataframe thead th {\n",
       "        text-align: right;\n",
       "    }\n",
       "</style>\n",
       "<table border=\"1\" class=\"dataframe\">\n",
       "  <thead>\n",
       "    <tr style=\"text-align: right;\">\n",
       "      <th></th>\n",
       "      <th>Breed</th>\n",
       "      <th>height_in</th>\n",
       "      <th>size_category</th>\n",
       "    </tr>\n",
       "  </thead>\n",
       "  <tbody>\n",
       "    <tr>\n",
       "      <th>0</th>\n",
       "      <td>Labrador Retriever</td>\n",
       "      <td>21.0</td>\n",
       "      <td>Medium</td>\n",
       "    </tr>\n",
       "    <tr>\n",
       "      <th>1</th>\n",
       "      <td>German Shepherd</td>\n",
       "      <td>22.0</td>\n",
       "      <td>Medium</td>\n",
       "    </tr>\n",
       "    <tr>\n",
       "      <th>2</th>\n",
       "      <td>Bulldog</td>\n",
       "      <td>12.0</td>\n",
       "      <td>Small</td>\n",
       "    </tr>\n",
       "    <tr>\n",
       "      <th>3</th>\n",
       "      <td>Poodle</td>\n",
       "      <td>10.0</td>\n",
       "      <td>Small</td>\n",
       "    </tr>\n",
       "    <tr>\n",
       "      <th>4</th>\n",
       "      <td>Beagle</td>\n",
       "      <td>13.0</td>\n",
       "      <td>Small</td>\n",
       "    </tr>\n",
       "  </tbody>\n",
       "</table>\n",
       "</div>"
      ],
      "text/plain": [
       "                Breed  height_in size_category\n",
       "0  Labrador Retriever       21.0        Medium\n",
       "1     German Shepherd       22.0        Medium\n",
       "2             Bulldog       12.0         Small\n",
       "3              Poodle       10.0         Small\n",
       "4              Beagle       13.0         Small"
      ]
     },
     "execution_count": 53,
     "metadata": {},
     "output_type": "execute_result"
    }
   ],
   "source": [
    "breed_info[['Breed', 'height_in', 'size_category']].head()\n"
   ]
  },
  {
   "cell_type": "code",
   "execution_count": 54,
   "id": "a7734cc5-0d7c-4e4c-8211-0632b7662e1c",
   "metadata": {},
   "outputs": [
    {
     "ename": "TypeError",
     "evalue": "'>' not supported between instances of 'str' and 'int'",
     "output_type": "error",
     "traceback": [
      "\u001b[1;31m---------------------------------------------------------------------------\u001b[0m",
      "\u001b[1;31mTypeError\u001b[0m                                 Traceback (most recent call last)",
      "Cell \u001b[1;32mIn[54], line 5\u001b[0m\n\u001b[0;32m      2\u001b[0m spending \u001b[38;5;241m=\u001b[39m spending\u001b[38;5;241m.\u001b[39mdrop_duplicates()\n\u001b[0;32m      4\u001b[0m \u001b[38;5;66;03m# Quick clean: remove rows with 0 trade amount or quantity\u001b[39;00m\n\u001b[1;32m----> 5\u001b[0m spending \u001b[38;5;241m=\u001b[39m spending[(spending[\u001b[38;5;124m'\u001b[39m\u001b[38;5;124mtradeAmount\u001b[39m\u001b[38;5;124m'\u001b[39m] \u001b[38;5;241m>\u001b[39m \u001b[38;5;241m0\u001b[39m) \u001b[38;5;241m&\u001b[39m (spending[\u001b[38;5;124m'\u001b[39m\u001b[38;5;124mquantity\u001b[39m\u001b[38;5;124m'\u001b[39m] \u001b[38;5;241m>\u001b[39m \u001b[38;5;241m0\u001b[39m)]\n",
      "File \u001b[1;32m~\\anaconda3\\Lib\\site-packages\\pandas\\core\\ops\\common.py:76\u001b[0m, in \u001b[0;36m_unpack_zerodim_and_defer.<locals>.new_method\u001b[1;34m(self, other)\u001b[0m\n\u001b[0;32m     72\u001b[0m             \u001b[38;5;28;01mreturn\u001b[39;00m \u001b[38;5;28mNotImplemented\u001b[39m\n\u001b[0;32m     74\u001b[0m other \u001b[38;5;241m=\u001b[39m item_from_zerodim(other)\n\u001b[1;32m---> 76\u001b[0m \u001b[38;5;28;01mreturn\u001b[39;00m method(\u001b[38;5;28mself\u001b[39m, other)\n",
      "File \u001b[1;32m~\\anaconda3\\Lib\\site-packages\\pandas\\core\\arraylike.py:56\u001b[0m, in \u001b[0;36mOpsMixin.__gt__\u001b[1;34m(self, other)\u001b[0m\n\u001b[0;32m     54\u001b[0m \u001b[38;5;129m@unpack_zerodim_and_defer\u001b[39m(\u001b[38;5;124m\"\u001b[39m\u001b[38;5;124m__gt__\u001b[39m\u001b[38;5;124m\"\u001b[39m)\n\u001b[0;32m     55\u001b[0m \u001b[38;5;28;01mdef\u001b[39;00m \u001b[38;5;21m__gt__\u001b[39m(\u001b[38;5;28mself\u001b[39m, other):\n\u001b[1;32m---> 56\u001b[0m     \u001b[38;5;28;01mreturn\u001b[39;00m \u001b[38;5;28mself\u001b[39m\u001b[38;5;241m.\u001b[39m_cmp_method(other, operator\u001b[38;5;241m.\u001b[39mgt)\n",
      "File \u001b[1;32m~\\anaconda3\\Lib\\site-packages\\pandas\\core\\series.py:6119\u001b[0m, in \u001b[0;36mSeries._cmp_method\u001b[1;34m(self, other, op)\u001b[0m\n\u001b[0;32m   6116\u001b[0m lvalues \u001b[38;5;241m=\u001b[39m \u001b[38;5;28mself\u001b[39m\u001b[38;5;241m.\u001b[39m_values\n\u001b[0;32m   6117\u001b[0m rvalues \u001b[38;5;241m=\u001b[39m extract_array(other, extract_numpy\u001b[38;5;241m=\u001b[39m\u001b[38;5;28;01mTrue\u001b[39;00m, extract_range\u001b[38;5;241m=\u001b[39m\u001b[38;5;28;01mTrue\u001b[39;00m)\n\u001b[1;32m-> 6119\u001b[0m res_values \u001b[38;5;241m=\u001b[39m ops\u001b[38;5;241m.\u001b[39mcomparison_op(lvalues, rvalues, op)\n\u001b[0;32m   6121\u001b[0m \u001b[38;5;28;01mreturn\u001b[39;00m \u001b[38;5;28mself\u001b[39m\u001b[38;5;241m.\u001b[39m_construct_result(res_values, name\u001b[38;5;241m=\u001b[39mres_name)\n",
      "File \u001b[1;32m~\\anaconda3\\Lib\\site-packages\\pandas\\core\\ops\\array_ops.py:344\u001b[0m, in \u001b[0;36mcomparison_op\u001b[1;34m(left, right, op)\u001b[0m\n\u001b[0;32m    341\u001b[0m     \u001b[38;5;28;01mreturn\u001b[39;00m invalid_comparison(lvalues, rvalues, op)\n\u001b[0;32m    343\u001b[0m \u001b[38;5;28;01melif\u001b[39;00m lvalues\u001b[38;5;241m.\u001b[39mdtype \u001b[38;5;241m==\u001b[39m \u001b[38;5;28mobject\u001b[39m \u001b[38;5;129;01mor\u001b[39;00m \u001b[38;5;28misinstance\u001b[39m(rvalues, \u001b[38;5;28mstr\u001b[39m):\n\u001b[1;32m--> 344\u001b[0m     res_values \u001b[38;5;241m=\u001b[39m comp_method_OBJECT_ARRAY(op, lvalues, rvalues)\n\u001b[0;32m    346\u001b[0m \u001b[38;5;28;01melse\u001b[39;00m:\n\u001b[0;32m    347\u001b[0m     res_values \u001b[38;5;241m=\u001b[39m _na_arithmetic_op(lvalues, rvalues, op, is_cmp\u001b[38;5;241m=\u001b[39m\u001b[38;5;28;01mTrue\u001b[39;00m)\n",
      "File \u001b[1;32m~\\anaconda3\\Lib\\site-packages\\pandas\\core\\ops\\array_ops.py:129\u001b[0m, in \u001b[0;36mcomp_method_OBJECT_ARRAY\u001b[1;34m(op, x, y)\u001b[0m\n\u001b[0;32m    127\u001b[0m     result \u001b[38;5;241m=\u001b[39m libops\u001b[38;5;241m.\u001b[39mvec_compare(x\u001b[38;5;241m.\u001b[39mravel(), y\u001b[38;5;241m.\u001b[39mravel(), op)\n\u001b[0;32m    128\u001b[0m \u001b[38;5;28;01melse\u001b[39;00m:\n\u001b[1;32m--> 129\u001b[0m     result \u001b[38;5;241m=\u001b[39m libops\u001b[38;5;241m.\u001b[39mscalar_compare(x\u001b[38;5;241m.\u001b[39mravel(), y, op)\n\u001b[0;32m    130\u001b[0m \u001b[38;5;28;01mreturn\u001b[39;00m result\u001b[38;5;241m.\u001b[39mreshape(x\u001b[38;5;241m.\u001b[39mshape)\n",
      "File \u001b[1;32mops.pyx:107\u001b[0m, in \u001b[0;36mpandas._libs.ops.scalar_compare\u001b[1;34m()\u001b[0m\n",
      "\u001b[1;31mTypeError\u001b[0m: '>' not supported between instances of 'str' and 'int'"
     ]
    }
   ],
   "source": [
    "# Drop duplicates\n",
    "spending = spending.drop_duplicates()\n",
    "\n",
    "# Quick clean: remove rows with 0 trade amount or quantity\n",
    "spending = spending[(spending['tradeAmount'] > 0) & (spending['quantity'] > 0)]\n"
   ]
  },
  {
   "cell_type": "code",
   "execution_count": 55,
   "id": "160aa190-16fc-4ee5-aeee-eca0cefc74cb",
   "metadata": {},
   "outputs": [],
   "source": [
    "# Ensure numeric conversion\n",
    "spending['tradeAmount'] = pd.to_numeric(spending['tradeAmount'], errors='coerce')\n",
    "spending['quantity'] = pd.to_numeric(spending['quantity'], errors='coerce')\n",
    "\n",
    "spending = spending[(spending['tradeAmount'] > 0) & (spending['quantity'] > 0)]\n",
    "\n",
    "# Drop duplicates\n",
    "spending = spending.drop_duplicates()\n",
    "\n",
    "# Convert to numeric\n",
    "spending['tradeAmount'] = pd.to_numeric(spending['tradeAmount'], errors='coerce')\n",
    "spending['quantity'] = pd.to_numeric(spending['quantity'], errors='coerce')\n",
    "\n",
    "# Quick clean: remove rows with 0 trade amount or quantity\n",
    "spending = spending[(spending['tradeAmount'] > 0) & (spending['quantity'] > 0)]\n"
   ]
  },
  {
   "cell_type": "code",
   "execution_count": 56,
   "id": "0cc048a4-7203-4b15-b6eb-a215684ae025",
   "metadata": {},
   "outputs": [
    {
     "data": {
      "text/plain": [
       "contact_city\n",
       "Phoenix        756\n",
       "Atlanta        710\n",
       "Las Vegas      604\n",
       "New York       589\n",
       "Chamblee       495\n",
       "Albuquerque    452\n",
       "Seattle        436\n",
       "Columbia       432\n",
       "Washington     417\n",
       "Columbus       414\n",
       "Name: count, dtype: int64"
      ]
     },
     "execution_count": 56,
     "metadata": {},
     "output_type": "execute_result"
    }
   ],
   "source": [
    "dogs['breed_primary'].value_counts().head(10)    # Top breeds\n",
    "dogs['age'].value_counts()                       # Age distribution\n",
    "dogs['sex'].value_counts()                       # Gender distribution\n",
    "dogs['status'].value_counts()                    # Adoption status\n",
    "dogs['contact_city'].value_counts().head(10)     # Top adoption cities\n"
   ]
  },
  {
   "cell_type": "code",
   "execution_count": 57,
   "id": "d1fac6b9-24df-4671-8e0d-5d2fcc02b04f",
   "metadata": {},
   "outputs": [
    {
     "ename": "KeyError",
     "evalue": "'Column not found: longevity_'",
     "output_type": "error",
     "traceback": [
      "\u001b[1;31m---------------------------------------------------------------------------\u001b[0m",
      "\u001b[1;31mKeyError\u001b[0m                                  Traceback (most recent call last)",
      "Cell \u001b[1;32mIn[57], line 2\u001b[0m\n\u001b[0;32m      1\u001b[0m breed_info[\u001b[38;5;124m'\u001b[39m\u001b[38;5;124msize_category\u001b[39m\u001b[38;5;124m'\u001b[39m]\u001b[38;5;241m.\u001b[39mvalue_counts()       \u001b[38;5;66;03m# Size category distribution\u001b[39;00m\n\u001b[1;32m----> 2\u001b[0m breed_info\u001b[38;5;241m.\u001b[39mgroupby(\u001b[38;5;124m'\u001b[39m\u001b[38;5;124msize_category\u001b[39m\u001b[38;5;124m'\u001b[39m)[\u001b[38;5;124m'\u001b[39m\u001b[38;5;124mlongevity_\u001b[39m\u001b[38;5;124m'\u001b[39m]\u001b[38;5;241m.\u001b[39mmean()\n",
      "File \u001b[1;32m~\\anaconda3\\Lib\\site-packages\\pandas\\core\\groupby\\generic.py:1951\u001b[0m, in \u001b[0;36mDataFrameGroupBy.__getitem__\u001b[1;34m(self, key)\u001b[0m\n\u001b[0;32m   1944\u001b[0m \u001b[38;5;28;01mif\u001b[39;00m \u001b[38;5;28misinstance\u001b[39m(key, \u001b[38;5;28mtuple\u001b[39m) \u001b[38;5;129;01mand\u001b[39;00m \u001b[38;5;28mlen\u001b[39m(key) \u001b[38;5;241m>\u001b[39m \u001b[38;5;241m1\u001b[39m:\n\u001b[0;32m   1945\u001b[0m     \u001b[38;5;66;03m# if len == 1, then it becomes a SeriesGroupBy and this is actually\u001b[39;00m\n\u001b[0;32m   1946\u001b[0m     \u001b[38;5;66;03m# valid syntax, so don't raise\u001b[39;00m\n\u001b[0;32m   1947\u001b[0m     \u001b[38;5;28;01mraise\u001b[39;00m \u001b[38;5;167;01mValueError\u001b[39;00m(\n\u001b[0;32m   1948\u001b[0m         \u001b[38;5;124m\"\u001b[39m\u001b[38;5;124mCannot subset columns with a tuple with more than one element. \u001b[39m\u001b[38;5;124m\"\u001b[39m\n\u001b[0;32m   1949\u001b[0m         \u001b[38;5;124m\"\u001b[39m\u001b[38;5;124mUse a list instead.\u001b[39m\u001b[38;5;124m\"\u001b[39m\n\u001b[0;32m   1950\u001b[0m     )\n\u001b[1;32m-> 1951\u001b[0m \u001b[38;5;28;01mreturn\u001b[39;00m \u001b[38;5;28msuper\u001b[39m()\u001b[38;5;241m.\u001b[39m\u001b[38;5;21m__getitem__\u001b[39m(key)\n",
      "File \u001b[1;32m~\\anaconda3\\Lib\\site-packages\\pandas\\core\\base.py:244\u001b[0m, in \u001b[0;36mSelectionMixin.__getitem__\u001b[1;34m(self, key)\u001b[0m\n\u001b[0;32m    242\u001b[0m \u001b[38;5;28;01melse\u001b[39;00m:\n\u001b[0;32m    243\u001b[0m     \u001b[38;5;28;01mif\u001b[39;00m key \u001b[38;5;129;01mnot\u001b[39;00m \u001b[38;5;129;01min\u001b[39;00m \u001b[38;5;28mself\u001b[39m\u001b[38;5;241m.\u001b[39mobj:\n\u001b[1;32m--> 244\u001b[0m         \u001b[38;5;28;01mraise\u001b[39;00m \u001b[38;5;167;01mKeyError\u001b[39;00m(\u001b[38;5;124mf\u001b[39m\u001b[38;5;124m\"\u001b[39m\u001b[38;5;124mColumn not found: \u001b[39m\u001b[38;5;132;01m{\u001b[39;00mkey\u001b[38;5;132;01m}\u001b[39;00m\u001b[38;5;124m\"\u001b[39m)\n\u001b[0;32m    245\u001b[0m     ndim \u001b[38;5;241m=\u001b[39m \u001b[38;5;28mself\u001b[39m\u001b[38;5;241m.\u001b[39mobj[key]\u001b[38;5;241m.\u001b[39mndim\n\u001b[0;32m    246\u001b[0m     \u001b[38;5;28;01mreturn\u001b[39;00m \u001b[38;5;28mself\u001b[39m\u001b[38;5;241m.\u001b[39m_gotitem(key, ndim\u001b[38;5;241m=\u001b[39mndim)\n",
      "\u001b[1;31mKeyError\u001b[0m: 'Column not found: longevity_'"
     ]
    }
   ],
   "source": [
    "breed_info['size_category'].value_counts()       # Size category distribution\n",
    "breed_info.groupby('size_category')['longevity_'].mean()\n"
   ]
  },
  {
   "cell_type": "code",
   "execution_count": 58,
   "id": "f0235479-00b1-4c80-b7eb-3cb3a6e18856",
   "metadata": {},
   "outputs": [],
   "source": [
    "# Standardize column names\n",
    "breed_info = breed_info.rename(columns={\n",
    "    'Height (in)': 'height_in',\n",
    "    'Longevity (yrs)': 'longevity_'\n",
    "})\n"
   ]
  },
  {
   "cell_type": "code",
   "execution_count": 59,
   "id": "8b8dd2b8-8dc6-44e2-a02e-d5836bf67a9e",
   "metadata": {},
   "outputs": [
    {
     "ename": "TypeError",
     "evalue": "agg function failed [how->mean,dtype->object]",
     "output_type": "error",
     "traceback": [
      "\u001b[1;31m---------------------------------------------------------------------------\u001b[0m",
      "\u001b[1;31mTypeError\u001b[0m                                 Traceback (most recent call last)",
      "File \u001b[1;32m~\\anaconda3\\Lib\\site-packages\\pandas\\core\\groupby\\groupby.py:1942\u001b[0m, in \u001b[0;36mGroupBy._agg_py_fallback\u001b[1;34m(self, how, values, ndim, alt)\u001b[0m\n\u001b[0;32m   1941\u001b[0m \u001b[38;5;28;01mtry\u001b[39;00m:\n\u001b[1;32m-> 1942\u001b[0m     res_values \u001b[38;5;241m=\u001b[39m \u001b[38;5;28mself\u001b[39m\u001b[38;5;241m.\u001b[39m_grouper\u001b[38;5;241m.\u001b[39magg_series(ser, alt, preserve_dtype\u001b[38;5;241m=\u001b[39m\u001b[38;5;28;01mTrue\u001b[39;00m)\n\u001b[0;32m   1943\u001b[0m \u001b[38;5;28;01mexcept\u001b[39;00m \u001b[38;5;167;01mException\u001b[39;00m \u001b[38;5;28;01mas\u001b[39;00m err:\n",
      "File \u001b[1;32m~\\anaconda3\\Lib\\site-packages\\pandas\\core\\groupby\\ops.py:864\u001b[0m, in \u001b[0;36mBaseGrouper.agg_series\u001b[1;34m(self, obj, func, preserve_dtype)\u001b[0m\n\u001b[0;32m    862\u001b[0m     preserve_dtype \u001b[38;5;241m=\u001b[39m \u001b[38;5;28;01mTrue\u001b[39;00m\n\u001b[1;32m--> 864\u001b[0m result \u001b[38;5;241m=\u001b[39m \u001b[38;5;28mself\u001b[39m\u001b[38;5;241m.\u001b[39m_aggregate_series_pure_python(obj, func)\n\u001b[0;32m    866\u001b[0m npvalues \u001b[38;5;241m=\u001b[39m lib\u001b[38;5;241m.\u001b[39mmaybe_convert_objects(result, try_float\u001b[38;5;241m=\u001b[39m\u001b[38;5;28;01mFalse\u001b[39;00m)\n",
      "File \u001b[1;32m~\\anaconda3\\Lib\\site-packages\\pandas\\core\\groupby\\ops.py:885\u001b[0m, in \u001b[0;36mBaseGrouper._aggregate_series_pure_python\u001b[1;34m(self, obj, func)\u001b[0m\n\u001b[0;32m    884\u001b[0m \u001b[38;5;28;01mfor\u001b[39;00m i, group \u001b[38;5;129;01min\u001b[39;00m \u001b[38;5;28menumerate\u001b[39m(splitter):\n\u001b[1;32m--> 885\u001b[0m     res \u001b[38;5;241m=\u001b[39m func(group)\n\u001b[0;32m    886\u001b[0m     res \u001b[38;5;241m=\u001b[39m extract_result(res)\n",
      "File \u001b[1;32m~\\anaconda3\\Lib\\site-packages\\pandas\\core\\groupby\\groupby.py:2454\u001b[0m, in \u001b[0;36mGroupBy.mean.<locals>.<lambda>\u001b[1;34m(x)\u001b[0m\n\u001b[0;32m   2451\u001b[0m \u001b[38;5;28;01melse\u001b[39;00m:\n\u001b[0;32m   2452\u001b[0m     result \u001b[38;5;241m=\u001b[39m \u001b[38;5;28mself\u001b[39m\u001b[38;5;241m.\u001b[39m_cython_agg_general(\n\u001b[0;32m   2453\u001b[0m         \u001b[38;5;124m\"\u001b[39m\u001b[38;5;124mmean\u001b[39m\u001b[38;5;124m\"\u001b[39m,\n\u001b[1;32m-> 2454\u001b[0m         alt\u001b[38;5;241m=\u001b[39m\u001b[38;5;28;01mlambda\u001b[39;00m x: Series(x, copy\u001b[38;5;241m=\u001b[39m\u001b[38;5;28;01mFalse\u001b[39;00m)\u001b[38;5;241m.\u001b[39mmean(numeric_only\u001b[38;5;241m=\u001b[39mnumeric_only),\n\u001b[0;32m   2455\u001b[0m         numeric_only\u001b[38;5;241m=\u001b[39mnumeric_only,\n\u001b[0;32m   2456\u001b[0m     )\n\u001b[0;32m   2457\u001b[0m     \u001b[38;5;28;01mreturn\u001b[39;00m result\u001b[38;5;241m.\u001b[39m__finalize__(\u001b[38;5;28mself\u001b[39m\u001b[38;5;241m.\u001b[39mobj, method\u001b[38;5;241m=\u001b[39m\u001b[38;5;124m\"\u001b[39m\u001b[38;5;124mgroupby\u001b[39m\u001b[38;5;124m\"\u001b[39m)\n",
      "File \u001b[1;32m~\\anaconda3\\Lib\\site-packages\\pandas\\core\\series.py:6549\u001b[0m, in \u001b[0;36mSeries.mean\u001b[1;34m(self, axis, skipna, numeric_only, **kwargs)\u001b[0m\n\u001b[0;32m   6541\u001b[0m \u001b[38;5;129m@doc\u001b[39m(make_doc(\u001b[38;5;124m\"\u001b[39m\u001b[38;5;124mmean\u001b[39m\u001b[38;5;124m\"\u001b[39m, ndim\u001b[38;5;241m=\u001b[39m\u001b[38;5;241m1\u001b[39m))\n\u001b[0;32m   6542\u001b[0m \u001b[38;5;28;01mdef\u001b[39;00m \u001b[38;5;21mmean\u001b[39m(\n\u001b[0;32m   6543\u001b[0m     \u001b[38;5;28mself\u001b[39m,\n\u001b[1;32m   (...)\u001b[0m\n\u001b[0;32m   6547\u001b[0m     \u001b[38;5;241m*\u001b[39m\u001b[38;5;241m*\u001b[39mkwargs,\n\u001b[0;32m   6548\u001b[0m ):\n\u001b[1;32m-> 6549\u001b[0m     \u001b[38;5;28;01mreturn\u001b[39;00m NDFrame\u001b[38;5;241m.\u001b[39mmean(\u001b[38;5;28mself\u001b[39m, axis, skipna, numeric_only, \u001b[38;5;241m*\u001b[39m\u001b[38;5;241m*\u001b[39mkwargs)\n",
      "File \u001b[1;32m~\\anaconda3\\Lib\\site-packages\\pandas\\core\\generic.py:12420\u001b[0m, in \u001b[0;36mNDFrame.mean\u001b[1;34m(self, axis, skipna, numeric_only, **kwargs)\u001b[0m\n\u001b[0;32m  12413\u001b[0m \u001b[38;5;28;01mdef\u001b[39;00m \u001b[38;5;21mmean\u001b[39m(\n\u001b[0;32m  12414\u001b[0m     \u001b[38;5;28mself\u001b[39m,\n\u001b[0;32m  12415\u001b[0m     axis: Axis \u001b[38;5;241m|\u001b[39m \u001b[38;5;28;01mNone\u001b[39;00m \u001b[38;5;241m=\u001b[39m \u001b[38;5;241m0\u001b[39m,\n\u001b[1;32m   (...)\u001b[0m\n\u001b[0;32m  12418\u001b[0m     \u001b[38;5;241m*\u001b[39m\u001b[38;5;241m*\u001b[39mkwargs,\n\u001b[0;32m  12419\u001b[0m ) \u001b[38;5;241m-\u001b[39m\u001b[38;5;241m>\u001b[39m Series \u001b[38;5;241m|\u001b[39m \u001b[38;5;28mfloat\u001b[39m:\n\u001b[1;32m> 12420\u001b[0m     \u001b[38;5;28;01mreturn\u001b[39;00m \u001b[38;5;28mself\u001b[39m\u001b[38;5;241m.\u001b[39m_stat_function(\n\u001b[0;32m  12421\u001b[0m         \u001b[38;5;124m\"\u001b[39m\u001b[38;5;124mmean\u001b[39m\u001b[38;5;124m\"\u001b[39m, nanops\u001b[38;5;241m.\u001b[39mnanmean, axis, skipna, numeric_only, \u001b[38;5;241m*\u001b[39m\u001b[38;5;241m*\u001b[39mkwargs\n\u001b[0;32m  12422\u001b[0m     )\n",
      "File \u001b[1;32m~\\anaconda3\\Lib\\site-packages\\pandas\\core\\generic.py:12377\u001b[0m, in \u001b[0;36mNDFrame._stat_function\u001b[1;34m(self, name, func, axis, skipna, numeric_only, **kwargs)\u001b[0m\n\u001b[0;32m  12375\u001b[0m validate_bool_kwarg(skipna, \u001b[38;5;124m\"\u001b[39m\u001b[38;5;124mskipna\u001b[39m\u001b[38;5;124m\"\u001b[39m, none_allowed\u001b[38;5;241m=\u001b[39m\u001b[38;5;28;01mFalse\u001b[39;00m)\n\u001b[1;32m> 12377\u001b[0m \u001b[38;5;28;01mreturn\u001b[39;00m \u001b[38;5;28mself\u001b[39m\u001b[38;5;241m.\u001b[39m_reduce(\n\u001b[0;32m  12378\u001b[0m     func, name\u001b[38;5;241m=\u001b[39mname, axis\u001b[38;5;241m=\u001b[39maxis, skipna\u001b[38;5;241m=\u001b[39mskipna, numeric_only\u001b[38;5;241m=\u001b[39mnumeric_only\n\u001b[0;32m  12379\u001b[0m )\n",
      "File \u001b[1;32m~\\anaconda3\\Lib\\site-packages\\pandas\\core\\series.py:6457\u001b[0m, in \u001b[0;36mSeries._reduce\u001b[1;34m(self, op, name, axis, skipna, numeric_only, filter_type, **kwds)\u001b[0m\n\u001b[0;32m   6453\u001b[0m     \u001b[38;5;28;01mraise\u001b[39;00m \u001b[38;5;167;01mTypeError\u001b[39;00m(\n\u001b[0;32m   6454\u001b[0m         \u001b[38;5;124mf\u001b[39m\u001b[38;5;124m\"\u001b[39m\u001b[38;5;124mSeries.\u001b[39m\u001b[38;5;132;01m{\u001b[39;00mname\u001b[38;5;132;01m}\u001b[39;00m\u001b[38;5;124m does not allow \u001b[39m\u001b[38;5;132;01m{\u001b[39;00mkwd_name\u001b[38;5;132;01m}\u001b[39;00m\u001b[38;5;124m=\u001b[39m\u001b[38;5;132;01m{\u001b[39;00mnumeric_only\u001b[38;5;132;01m}\u001b[39;00m\u001b[38;5;124m \u001b[39m\u001b[38;5;124m\"\u001b[39m\n\u001b[0;32m   6455\u001b[0m         \u001b[38;5;124m\"\u001b[39m\u001b[38;5;124mwith non-numeric dtypes.\u001b[39m\u001b[38;5;124m\"\u001b[39m\n\u001b[0;32m   6456\u001b[0m     )\n\u001b[1;32m-> 6457\u001b[0m \u001b[38;5;28;01mreturn\u001b[39;00m op(delegate, skipna\u001b[38;5;241m=\u001b[39mskipna, \u001b[38;5;241m*\u001b[39m\u001b[38;5;241m*\u001b[39mkwds)\n",
      "File \u001b[1;32m~\\anaconda3\\Lib\\site-packages\\pandas\\core\\nanops.py:147\u001b[0m, in \u001b[0;36mbottleneck_switch.__call__.<locals>.f\u001b[1;34m(values, axis, skipna, **kwds)\u001b[0m\n\u001b[0;32m    146\u001b[0m \u001b[38;5;28;01melse\u001b[39;00m:\n\u001b[1;32m--> 147\u001b[0m     result \u001b[38;5;241m=\u001b[39m alt(values, axis\u001b[38;5;241m=\u001b[39maxis, skipna\u001b[38;5;241m=\u001b[39mskipna, \u001b[38;5;241m*\u001b[39m\u001b[38;5;241m*\u001b[39mkwds)\n\u001b[0;32m    149\u001b[0m \u001b[38;5;28;01mreturn\u001b[39;00m result\n",
      "File \u001b[1;32m~\\anaconda3\\Lib\\site-packages\\pandas\\core\\nanops.py:404\u001b[0m, in \u001b[0;36m_datetimelike_compat.<locals>.new_func\u001b[1;34m(values, axis, skipna, mask, **kwargs)\u001b[0m\n\u001b[0;32m    402\u001b[0m     mask \u001b[38;5;241m=\u001b[39m isna(values)\n\u001b[1;32m--> 404\u001b[0m result \u001b[38;5;241m=\u001b[39m func(values, axis\u001b[38;5;241m=\u001b[39maxis, skipna\u001b[38;5;241m=\u001b[39mskipna, mask\u001b[38;5;241m=\u001b[39mmask, \u001b[38;5;241m*\u001b[39m\u001b[38;5;241m*\u001b[39mkwargs)\n\u001b[0;32m    406\u001b[0m \u001b[38;5;28;01mif\u001b[39;00m datetimelike:\n",
      "File \u001b[1;32m~\\anaconda3\\Lib\\site-packages\\pandas\\core\\nanops.py:720\u001b[0m, in \u001b[0;36mnanmean\u001b[1;34m(values, axis, skipna, mask)\u001b[0m\n\u001b[0;32m    719\u001b[0m the_sum \u001b[38;5;241m=\u001b[39m values\u001b[38;5;241m.\u001b[39msum(axis, dtype\u001b[38;5;241m=\u001b[39mdtype_sum)\n\u001b[1;32m--> 720\u001b[0m the_sum \u001b[38;5;241m=\u001b[39m _ensure_numeric(the_sum)\n\u001b[0;32m    722\u001b[0m \u001b[38;5;28;01mif\u001b[39;00m axis \u001b[38;5;129;01mis\u001b[39;00m \u001b[38;5;129;01mnot\u001b[39;00m \u001b[38;5;28;01mNone\u001b[39;00m \u001b[38;5;129;01mand\u001b[39;00m \u001b[38;5;28mgetattr\u001b[39m(the_sum, \u001b[38;5;124m\"\u001b[39m\u001b[38;5;124mndim\u001b[39m\u001b[38;5;124m\"\u001b[39m, \u001b[38;5;28;01mFalse\u001b[39;00m):\n",
      "File \u001b[1;32m~\\anaconda3\\Lib\\site-packages\\pandas\\core\\nanops.py:1701\u001b[0m, in \u001b[0;36m_ensure_numeric\u001b[1;34m(x)\u001b[0m\n\u001b[0;32m   1699\u001b[0m \u001b[38;5;28;01mif\u001b[39;00m \u001b[38;5;28misinstance\u001b[39m(x, \u001b[38;5;28mstr\u001b[39m):\n\u001b[0;32m   1700\u001b[0m     \u001b[38;5;66;03m# GH#44008, GH#36703 avoid casting e.g. strings to numeric\u001b[39;00m\n\u001b[1;32m-> 1701\u001b[0m     \u001b[38;5;28;01mraise\u001b[39;00m \u001b[38;5;167;01mTypeError\u001b[39;00m(\u001b[38;5;124mf\u001b[39m\u001b[38;5;124m\"\u001b[39m\u001b[38;5;124mCould not convert string \u001b[39m\u001b[38;5;124m'\u001b[39m\u001b[38;5;132;01m{\u001b[39;00mx\u001b[38;5;132;01m}\u001b[39;00m\u001b[38;5;124m'\u001b[39m\u001b[38;5;124m to numeric\u001b[39m\u001b[38;5;124m\"\u001b[39m)\n\u001b[0;32m   1702\u001b[0m \u001b[38;5;28;01mtry\u001b[39;00m:\n",
      "\u001b[1;31mTypeError\u001b[0m: Could not convert string '8-108-109-118-106-810-128-1010-1210-1210-1210-1212-1410-1210-1212-146-1010-1212-14' to numeric",
      "\nThe above exception was the direct cause of the following exception:\n",
      "\u001b[1;31mTypeError\u001b[0m                                 Traceback (most recent call last)",
      "Cell \u001b[1;32mIn[59], line 2\u001b[0m\n\u001b[0;32m      1\u001b[0m breed_info[\u001b[38;5;124m'\u001b[39m\u001b[38;5;124msize_category\u001b[39m\u001b[38;5;124m'\u001b[39m]\u001b[38;5;241m.\u001b[39mvalue_counts()       \u001b[38;5;66;03m# Size category distribution\u001b[39;00m\n\u001b[1;32m----> 2\u001b[0m breed_info\u001b[38;5;241m.\u001b[39mgroupby(\u001b[38;5;124m'\u001b[39m\u001b[38;5;124msize_category\u001b[39m\u001b[38;5;124m'\u001b[39m)[\u001b[38;5;124m'\u001b[39m\u001b[38;5;124mlongevity_\u001b[39m\u001b[38;5;124m'\u001b[39m]\u001b[38;5;241m.\u001b[39mmean()\n",
      "File \u001b[1;32m~\\anaconda3\\Lib\\site-packages\\pandas\\core\\groupby\\groupby.py:2452\u001b[0m, in \u001b[0;36mGroupBy.mean\u001b[1;34m(self, numeric_only, engine, engine_kwargs)\u001b[0m\n\u001b[0;32m   2445\u001b[0m     \u001b[38;5;28;01mreturn\u001b[39;00m \u001b[38;5;28mself\u001b[39m\u001b[38;5;241m.\u001b[39m_numba_agg_general(\n\u001b[0;32m   2446\u001b[0m         grouped_mean,\n\u001b[0;32m   2447\u001b[0m         executor\u001b[38;5;241m.\u001b[39mfloat_dtype_mapping,\n\u001b[0;32m   2448\u001b[0m         engine_kwargs,\n\u001b[0;32m   2449\u001b[0m         min_periods\u001b[38;5;241m=\u001b[39m\u001b[38;5;241m0\u001b[39m,\n\u001b[0;32m   2450\u001b[0m     )\n\u001b[0;32m   2451\u001b[0m \u001b[38;5;28;01melse\u001b[39;00m:\n\u001b[1;32m-> 2452\u001b[0m     result \u001b[38;5;241m=\u001b[39m \u001b[38;5;28mself\u001b[39m\u001b[38;5;241m.\u001b[39m_cython_agg_general(\n\u001b[0;32m   2453\u001b[0m         \u001b[38;5;124m\"\u001b[39m\u001b[38;5;124mmean\u001b[39m\u001b[38;5;124m\"\u001b[39m,\n\u001b[0;32m   2454\u001b[0m         alt\u001b[38;5;241m=\u001b[39m\u001b[38;5;28;01mlambda\u001b[39;00m x: Series(x, copy\u001b[38;5;241m=\u001b[39m\u001b[38;5;28;01mFalse\u001b[39;00m)\u001b[38;5;241m.\u001b[39mmean(numeric_only\u001b[38;5;241m=\u001b[39mnumeric_only),\n\u001b[0;32m   2455\u001b[0m         numeric_only\u001b[38;5;241m=\u001b[39mnumeric_only,\n\u001b[0;32m   2456\u001b[0m     )\n\u001b[0;32m   2457\u001b[0m     \u001b[38;5;28;01mreturn\u001b[39;00m result\u001b[38;5;241m.\u001b[39m__finalize__(\u001b[38;5;28mself\u001b[39m\u001b[38;5;241m.\u001b[39mobj, method\u001b[38;5;241m=\u001b[39m\u001b[38;5;124m\"\u001b[39m\u001b[38;5;124mgroupby\u001b[39m\u001b[38;5;124m\"\u001b[39m)\n",
      "File \u001b[1;32m~\\anaconda3\\Lib\\site-packages\\pandas\\core\\groupby\\groupby.py:1998\u001b[0m, in \u001b[0;36mGroupBy._cython_agg_general\u001b[1;34m(self, how, alt, numeric_only, min_count, **kwargs)\u001b[0m\n\u001b[0;32m   1995\u001b[0m     result \u001b[38;5;241m=\u001b[39m \u001b[38;5;28mself\u001b[39m\u001b[38;5;241m.\u001b[39m_agg_py_fallback(how, values, ndim\u001b[38;5;241m=\u001b[39mdata\u001b[38;5;241m.\u001b[39mndim, alt\u001b[38;5;241m=\u001b[39malt)\n\u001b[0;32m   1996\u001b[0m     \u001b[38;5;28;01mreturn\u001b[39;00m result\n\u001b[1;32m-> 1998\u001b[0m new_mgr \u001b[38;5;241m=\u001b[39m data\u001b[38;5;241m.\u001b[39mgrouped_reduce(array_func)\n\u001b[0;32m   1999\u001b[0m res \u001b[38;5;241m=\u001b[39m \u001b[38;5;28mself\u001b[39m\u001b[38;5;241m.\u001b[39m_wrap_agged_manager(new_mgr)\n\u001b[0;32m   2000\u001b[0m \u001b[38;5;28;01mif\u001b[39;00m how \u001b[38;5;129;01min\u001b[39;00m [\u001b[38;5;124m\"\u001b[39m\u001b[38;5;124midxmin\u001b[39m\u001b[38;5;124m\"\u001b[39m, \u001b[38;5;124m\"\u001b[39m\u001b[38;5;124midxmax\u001b[39m\u001b[38;5;124m\"\u001b[39m]:\n",
      "File \u001b[1;32m~\\anaconda3\\Lib\\site-packages\\pandas\\core\\internals\\base.py:367\u001b[0m, in \u001b[0;36mSingleDataManager.grouped_reduce\u001b[1;34m(self, func)\u001b[0m\n\u001b[0;32m    365\u001b[0m \u001b[38;5;28;01mdef\u001b[39;00m \u001b[38;5;21mgrouped_reduce\u001b[39m(\u001b[38;5;28mself\u001b[39m, func):\n\u001b[0;32m    366\u001b[0m     arr \u001b[38;5;241m=\u001b[39m \u001b[38;5;28mself\u001b[39m\u001b[38;5;241m.\u001b[39marray\n\u001b[1;32m--> 367\u001b[0m     res \u001b[38;5;241m=\u001b[39m func(arr)\n\u001b[0;32m    368\u001b[0m     index \u001b[38;5;241m=\u001b[39m default_index(\u001b[38;5;28mlen\u001b[39m(res))\n\u001b[0;32m    370\u001b[0m     mgr \u001b[38;5;241m=\u001b[39m \u001b[38;5;28mtype\u001b[39m(\u001b[38;5;28mself\u001b[39m)\u001b[38;5;241m.\u001b[39mfrom_array(res, index)\n",
      "File \u001b[1;32m~\\anaconda3\\Lib\\site-packages\\pandas\\core\\groupby\\groupby.py:1995\u001b[0m, in \u001b[0;36mGroupBy._cython_agg_general.<locals>.array_func\u001b[1;34m(values)\u001b[0m\n\u001b[0;32m   1992\u001b[0m     \u001b[38;5;28;01mreturn\u001b[39;00m result\n\u001b[0;32m   1994\u001b[0m \u001b[38;5;28;01massert\u001b[39;00m alt \u001b[38;5;129;01mis\u001b[39;00m \u001b[38;5;129;01mnot\u001b[39;00m \u001b[38;5;28;01mNone\u001b[39;00m\n\u001b[1;32m-> 1995\u001b[0m result \u001b[38;5;241m=\u001b[39m \u001b[38;5;28mself\u001b[39m\u001b[38;5;241m.\u001b[39m_agg_py_fallback(how, values, ndim\u001b[38;5;241m=\u001b[39mdata\u001b[38;5;241m.\u001b[39mndim, alt\u001b[38;5;241m=\u001b[39malt)\n\u001b[0;32m   1996\u001b[0m \u001b[38;5;28;01mreturn\u001b[39;00m result\n",
      "File \u001b[1;32m~\\anaconda3\\Lib\\site-packages\\pandas\\core\\groupby\\groupby.py:1946\u001b[0m, in \u001b[0;36mGroupBy._agg_py_fallback\u001b[1;34m(self, how, values, ndim, alt)\u001b[0m\n\u001b[0;32m   1944\u001b[0m     msg \u001b[38;5;241m=\u001b[39m \u001b[38;5;124mf\u001b[39m\u001b[38;5;124m\"\u001b[39m\u001b[38;5;124magg function failed [how->\u001b[39m\u001b[38;5;132;01m{\u001b[39;00mhow\u001b[38;5;132;01m}\u001b[39;00m\u001b[38;5;124m,dtype->\u001b[39m\u001b[38;5;132;01m{\u001b[39;00mser\u001b[38;5;241m.\u001b[39mdtype\u001b[38;5;132;01m}\u001b[39;00m\u001b[38;5;124m]\u001b[39m\u001b[38;5;124m\"\u001b[39m\n\u001b[0;32m   1945\u001b[0m     \u001b[38;5;66;03m# preserve the kind of exception that raised\u001b[39;00m\n\u001b[1;32m-> 1946\u001b[0m     \u001b[38;5;28;01mraise\u001b[39;00m \u001b[38;5;28mtype\u001b[39m(err)(msg) \u001b[38;5;28;01mfrom\u001b[39;00m \u001b[38;5;21;01merr\u001b[39;00m\n\u001b[0;32m   1948\u001b[0m \u001b[38;5;28;01mif\u001b[39;00m ser\u001b[38;5;241m.\u001b[39mdtype \u001b[38;5;241m==\u001b[39m \u001b[38;5;28mobject\u001b[39m:\n\u001b[0;32m   1949\u001b[0m     res_values \u001b[38;5;241m=\u001b[39m res_values\u001b[38;5;241m.\u001b[39mastype(\u001b[38;5;28mobject\u001b[39m, copy\u001b[38;5;241m=\u001b[39m\u001b[38;5;28;01mFalse\u001b[39;00m)\n",
      "\u001b[1;31mTypeError\u001b[0m: agg function failed [how->mean,dtype->object]"
     ]
    }
   ],
   "source": [
    "breed_info['size_category'].value_counts()       # Size category distribution\n",
    "breed_info.groupby('size_category')['longevity_'].mean()\n"
   ]
  },
  {
   "cell_type": "code",
   "execution_count": 60,
   "id": "b2ad640b-a152-407b-ba25-c4b1eeb557e7",
   "metadata": {},
   "outputs": [
    {
     "ename": "ValueError",
     "evalue": "Columns must be same length as key",
     "output_type": "error",
     "traceback": [
      "\u001b[1;31m---------------------------------------------------------------------------\u001b[0m",
      "\u001b[1;31mValueError\u001b[0m                                Traceback (most recent call last)",
      "\u001b[1;32m~\\AppData\\Local\\Temp\\ipykernel_32064\\3331236545.py\u001b[0m in \u001b[0;36m?\u001b[1;34m()\u001b[0m\n\u001b[0;32m      1\u001b[0m \u001b[1;31m# Clean longevity column (convert ranges like \"8-10\" into average)\u001b[0m\u001b[1;33m\u001b[0m\u001b[1;33m\u001b[0m\u001b[0m\n\u001b[1;32m----> 2\u001b[1;33m breed_info['longevity_'] = (\n\u001b[0m\u001b[0;32m      3\u001b[0m     \u001b[0mbreed_info\u001b[0m\u001b[1;33m[\u001b[0m\u001b[1;34m'longevity_'\u001b[0m\u001b[1;33m]\u001b[0m\u001b[1;33m\u001b[0m\u001b[1;33m\u001b[0m\u001b[0m\n\u001b[0;32m      4\u001b[0m     \u001b[1;33m.\u001b[0m\u001b[0mastype\u001b[0m\u001b[1;33m(\u001b[0m\u001b[0mstr\u001b[0m\u001b[1;33m)\u001b[0m\u001b[1;33m\u001b[0m\u001b[1;33m\u001b[0m\u001b[0m\n\u001b[0;32m      5\u001b[0m     \u001b[1;33m.\u001b[0m\u001b[0mstr\u001b[0m\u001b[1;33m.\u001b[0m\u001b[0mextract\u001b[0m\u001b[1;33m(\u001b[0m\u001b[1;34mr'(\\d+)-?(\\d+)?'\u001b[0m\u001b[1;33m)\u001b[0m  \u001b[1;31m# capture first and optional second number\u001b[0m\u001b[1;33m\u001b[0m\u001b[1;33m\u001b[0m\u001b[0m\n",
      "\u001b[1;32m~\\anaconda3\\Lib\\site-packages\\pandas\\core\\frame.py\u001b[0m in \u001b[0;36m?\u001b[1;34m(self, key, value)\u001b[0m\n\u001b[0;32m   4297\u001b[0m             \u001b[0mself\u001b[0m\u001b[1;33m.\u001b[0m\u001b[0m_setitem_frame\u001b[0m\u001b[1;33m(\u001b[0m\u001b[0mkey\u001b[0m\u001b[1;33m,\u001b[0m \u001b[0mvalue\u001b[0m\u001b[1;33m)\u001b[0m\u001b[1;33m\u001b[0m\u001b[1;33m\u001b[0m\u001b[0m\n\u001b[0;32m   4298\u001b[0m         \u001b[1;32melif\u001b[0m \u001b[0misinstance\u001b[0m\u001b[1;33m(\u001b[0m\u001b[0mkey\u001b[0m\u001b[1;33m,\u001b[0m \u001b[1;33m(\u001b[0m\u001b[0mSeries\u001b[0m\u001b[1;33m,\u001b[0m \u001b[0mnp\u001b[0m\u001b[1;33m.\u001b[0m\u001b[0mndarray\u001b[0m\u001b[1;33m,\u001b[0m \u001b[0mlist\u001b[0m\u001b[1;33m,\u001b[0m \u001b[0mIndex\u001b[0m\u001b[1;33m)\u001b[0m\u001b[1;33m)\u001b[0m\u001b[1;33m:\u001b[0m\u001b[1;33m\u001b[0m\u001b[1;33m\u001b[0m\u001b[0m\n\u001b[0;32m   4299\u001b[0m             \u001b[0mself\u001b[0m\u001b[1;33m.\u001b[0m\u001b[0m_setitem_array\u001b[0m\u001b[1;33m(\u001b[0m\u001b[0mkey\u001b[0m\u001b[1;33m,\u001b[0m \u001b[0mvalue\u001b[0m\u001b[1;33m)\u001b[0m\u001b[1;33m\u001b[0m\u001b[1;33m\u001b[0m\u001b[0m\n\u001b[0;32m   4300\u001b[0m         \u001b[1;32melif\u001b[0m \u001b[0misinstance\u001b[0m\u001b[1;33m(\u001b[0m\u001b[0mvalue\u001b[0m\u001b[1;33m,\u001b[0m \u001b[0mDataFrame\u001b[0m\u001b[1;33m)\u001b[0m\u001b[1;33m:\u001b[0m\u001b[1;33m\u001b[0m\u001b[1;33m\u001b[0m\u001b[0m\n\u001b[1;32m-> 4301\u001b[1;33m             \u001b[0mself\u001b[0m\u001b[1;33m.\u001b[0m\u001b[0m_set_item_frame_value\u001b[0m\u001b[1;33m(\u001b[0m\u001b[0mkey\u001b[0m\u001b[1;33m,\u001b[0m \u001b[0mvalue\u001b[0m\u001b[1;33m)\u001b[0m\u001b[1;33m\u001b[0m\u001b[1;33m\u001b[0m\u001b[0m\n\u001b[0m\u001b[0;32m   4302\u001b[0m         elif (\n\u001b[0;32m   4303\u001b[0m             \u001b[0mis_list_like\u001b[0m\u001b[1;33m(\u001b[0m\u001b[0mvalue\u001b[0m\u001b[1;33m)\u001b[0m\u001b[1;33m\u001b[0m\u001b[1;33m\u001b[0m\u001b[0m\n\u001b[0;32m   4304\u001b[0m             \u001b[1;32mand\u001b[0m \u001b[1;32mnot\u001b[0m \u001b[0mself\u001b[0m\u001b[1;33m.\u001b[0m\u001b[0mcolumns\u001b[0m\u001b[1;33m.\u001b[0m\u001b[0mis_unique\u001b[0m\u001b[1;33m\u001b[0m\u001b[1;33m\u001b[0m\u001b[0m\n",
      "\u001b[1;32m~\\anaconda3\\Lib\\site-packages\\pandas\\core\\frame.py\u001b[0m in \u001b[0;36m?\u001b[1;34m(self, key, value)\u001b[0m\n\u001b[0;32m   4425\u001b[0m             \u001b[0mloc\u001b[0m \u001b[1;33m=\u001b[0m \u001b[0mself\u001b[0m\u001b[1;33m.\u001b[0m\u001b[0mcolumns\u001b[0m\u001b[1;33m.\u001b[0m\u001b[0mget_loc\u001b[0m\u001b[1;33m(\u001b[0m\u001b[0mkey\u001b[0m\u001b[1;33m)\u001b[0m\u001b[1;33m\u001b[0m\u001b[1;33m\u001b[0m\u001b[0m\n\u001b[0;32m   4426\u001b[0m             \u001b[0mcols\u001b[0m \u001b[1;33m=\u001b[0m \u001b[0mself\u001b[0m\u001b[1;33m.\u001b[0m\u001b[0mcolumns\u001b[0m\u001b[1;33m[\u001b[0m\u001b[0mloc\u001b[0m\u001b[1;33m]\u001b[0m\u001b[1;33m\u001b[0m\u001b[1;33m\u001b[0m\u001b[0m\n\u001b[0;32m   4427\u001b[0m             \u001b[0mlen_cols\u001b[0m \u001b[1;33m=\u001b[0m \u001b[1;36m1\u001b[0m \u001b[1;32mif\u001b[0m \u001b[0mis_scalar\u001b[0m\u001b[1;33m(\u001b[0m\u001b[0mcols\u001b[0m\u001b[1;33m)\u001b[0m \u001b[1;32mor\u001b[0m \u001b[0misinstance\u001b[0m\u001b[1;33m(\u001b[0m\u001b[0mcols\u001b[0m\u001b[1;33m,\u001b[0m \u001b[0mtuple\u001b[0m\u001b[1;33m)\u001b[0m \u001b[1;32melse\u001b[0m \u001b[0mlen\u001b[0m\u001b[1;33m(\u001b[0m\u001b[0mcols\u001b[0m\u001b[1;33m)\u001b[0m\u001b[1;33m\u001b[0m\u001b[1;33m\u001b[0m\u001b[0m\n\u001b[0;32m   4428\u001b[0m             \u001b[1;32mif\u001b[0m \u001b[0mlen_cols\u001b[0m \u001b[1;33m!=\u001b[0m \u001b[0mlen\u001b[0m\u001b[1;33m(\u001b[0m\u001b[0mvalue\u001b[0m\u001b[1;33m.\u001b[0m\u001b[0mcolumns\u001b[0m\u001b[1;33m)\u001b[0m\u001b[1;33m:\u001b[0m\u001b[1;33m\u001b[0m\u001b[1;33m\u001b[0m\u001b[0m\n\u001b[1;32m-> 4429\u001b[1;33m                 \u001b[1;32mraise\u001b[0m \u001b[0mValueError\u001b[0m\u001b[1;33m(\u001b[0m\u001b[1;34m\"Columns must be same length as key\"\u001b[0m\u001b[1;33m)\u001b[0m\u001b[1;33m\u001b[0m\u001b[1;33m\u001b[0m\u001b[0m\n\u001b[0m\u001b[0;32m   4430\u001b[0m \u001b[1;33m\u001b[0m\u001b[0m\n\u001b[0;32m   4431\u001b[0m             \u001b[1;31m# align right-hand-side columns if self.columns\u001b[0m\u001b[1;33m\u001b[0m\u001b[1;33m\u001b[0m\u001b[0m\n\u001b[0;32m   4432\u001b[0m             \u001b[1;31m# is multi-index and self[key] is a sub-frame\u001b[0m\u001b[1;33m\u001b[0m\u001b[1;33m\u001b[0m\u001b[0m\n",
      "\u001b[1;31mValueError\u001b[0m: Columns must be same length as key"
     ]
    }
   ],
   "source": [
    "# Clean longevity column (convert ranges like \"8-10\" into average)\n",
    "breed_info['longevity_'] = (\n",
    "    breed_info['longevity_']\n",
    "    .astype(str)\n",
    "    .str.extract(r'(\\d+)-?(\\d+)?')  # capture first and optional second number\n",
    ")\n",
    "\n",
    "# Convert to numeric and average if there are two numbers\n",
    "breed_info['longevity_'] = breed_info['longevity_'].apply(\n",
    "    lambda x: (pd.to_numeric(x[0]) + pd.to_numeric(x[1])) / 2 if pd.notnull(x[1]) else pd.to_numeric(x[0])\n",
    ")\n"
   ]
  },
  {
   "cell_type": "code",
   "execution_count": 61,
   "id": "49fe6f8a-be9b-47b8-babd-d2ea243bbc74",
   "metadata": {},
   "outputs": [],
   "source": [
    "# Extract numbers from longevity ranges like \"8-10\"\n",
    "longevity_nums = breed_info['longevity_'].astype(str).str.extract(r'(\\d+)-?(\\d+)?')\n",
    "\n",
    "# Convert both parts to numeric\n",
    "longevity_nums = longevity_nums.apply(pd.to_numeric, errors='coerce')\n",
    "\n",
    "# Take average if two numbers exist, else just the first\n",
    "breed_info['longevity_'] = longevity_nums.apply(\n",
    "    lambda x: (x[0] + x[1]) / 2 if pd.notnull(x[1]) else x[0],\n",
    "    axis=1\n",
    ")\n"
   ]
  },
  {
   "cell_type": "code",
   "execution_count": 62,
   "id": "8184c4d2-210a-47e2-9249-0b91d9bf330b",
   "metadata": {},
   "outputs": [
    {
     "ename": "ValueError",
     "evalue": "Columns must be same length as key",
     "output_type": "error",
     "traceback": [
      "\u001b[1;31m---------------------------------------------------------------------------\u001b[0m",
      "\u001b[1;31mValueError\u001b[0m                                Traceback (most recent call last)",
      "\u001b[1;32m~\\AppData\\Local\\Temp\\ipykernel_32064\\3331236545.py\u001b[0m in \u001b[0;36m?\u001b[1;34m()\u001b[0m\n\u001b[0;32m      1\u001b[0m \u001b[1;31m# Clean longevity column (convert ranges like \"8-10\" into average)\u001b[0m\u001b[1;33m\u001b[0m\u001b[1;33m\u001b[0m\u001b[0m\n\u001b[1;32m----> 2\u001b[1;33m breed_info['longevity_'] = (\n\u001b[0m\u001b[0;32m      3\u001b[0m     \u001b[0mbreed_info\u001b[0m\u001b[1;33m[\u001b[0m\u001b[1;34m'longevity_'\u001b[0m\u001b[1;33m]\u001b[0m\u001b[1;33m\u001b[0m\u001b[1;33m\u001b[0m\u001b[0m\n\u001b[0;32m      4\u001b[0m     \u001b[1;33m.\u001b[0m\u001b[0mastype\u001b[0m\u001b[1;33m(\u001b[0m\u001b[0mstr\u001b[0m\u001b[1;33m)\u001b[0m\u001b[1;33m\u001b[0m\u001b[1;33m\u001b[0m\u001b[0m\n\u001b[0;32m      5\u001b[0m     \u001b[1;33m.\u001b[0m\u001b[0mstr\u001b[0m\u001b[1;33m.\u001b[0m\u001b[0mextract\u001b[0m\u001b[1;33m(\u001b[0m\u001b[1;34mr'(\\d+)-?(\\d+)?'\u001b[0m\u001b[1;33m)\u001b[0m  \u001b[1;31m# capture first and optional second number\u001b[0m\u001b[1;33m\u001b[0m\u001b[1;33m\u001b[0m\u001b[0m\n",
      "\u001b[1;32m~\\anaconda3\\Lib\\site-packages\\pandas\\core\\frame.py\u001b[0m in \u001b[0;36m?\u001b[1;34m(self, key, value)\u001b[0m\n\u001b[0;32m   4297\u001b[0m             \u001b[0mself\u001b[0m\u001b[1;33m.\u001b[0m\u001b[0m_setitem_frame\u001b[0m\u001b[1;33m(\u001b[0m\u001b[0mkey\u001b[0m\u001b[1;33m,\u001b[0m \u001b[0mvalue\u001b[0m\u001b[1;33m)\u001b[0m\u001b[1;33m\u001b[0m\u001b[1;33m\u001b[0m\u001b[0m\n\u001b[0;32m   4298\u001b[0m         \u001b[1;32melif\u001b[0m \u001b[0misinstance\u001b[0m\u001b[1;33m(\u001b[0m\u001b[0mkey\u001b[0m\u001b[1;33m,\u001b[0m \u001b[1;33m(\u001b[0m\u001b[0mSeries\u001b[0m\u001b[1;33m,\u001b[0m \u001b[0mnp\u001b[0m\u001b[1;33m.\u001b[0m\u001b[0mndarray\u001b[0m\u001b[1;33m,\u001b[0m \u001b[0mlist\u001b[0m\u001b[1;33m,\u001b[0m \u001b[0mIndex\u001b[0m\u001b[1;33m)\u001b[0m\u001b[1;33m)\u001b[0m\u001b[1;33m:\u001b[0m\u001b[1;33m\u001b[0m\u001b[1;33m\u001b[0m\u001b[0m\n\u001b[0;32m   4299\u001b[0m             \u001b[0mself\u001b[0m\u001b[1;33m.\u001b[0m\u001b[0m_setitem_array\u001b[0m\u001b[1;33m(\u001b[0m\u001b[0mkey\u001b[0m\u001b[1;33m,\u001b[0m \u001b[0mvalue\u001b[0m\u001b[1;33m)\u001b[0m\u001b[1;33m\u001b[0m\u001b[1;33m\u001b[0m\u001b[0m\n\u001b[0;32m   4300\u001b[0m         \u001b[1;32melif\u001b[0m \u001b[0misinstance\u001b[0m\u001b[1;33m(\u001b[0m\u001b[0mvalue\u001b[0m\u001b[1;33m,\u001b[0m \u001b[0mDataFrame\u001b[0m\u001b[1;33m)\u001b[0m\u001b[1;33m:\u001b[0m\u001b[1;33m\u001b[0m\u001b[1;33m\u001b[0m\u001b[0m\n\u001b[1;32m-> 4301\u001b[1;33m             \u001b[0mself\u001b[0m\u001b[1;33m.\u001b[0m\u001b[0m_set_item_frame_value\u001b[0m\u001b[1;33m(\u001b[0m\u001b[0mkey\u001b[0m\u001b[1;33m,\u001b[0m \u001b[0mvalue\u001b[0m\u001b[1;33m)\u001b[0m\u001b[1;33m\u001b[0m\u001b[1;33m\u001b[0m\u001b[0m\n\u001b[0m\u001b[0;32m   4302\u001b[0m         elif (\n\u001b[0;32m   4303\u001b[0m             \u001b[0mis_list_like\u001b[0m\u001b[1;33m(\u001b[0m\u001b[0mvalue\u001b[0m\u001b[1;33m)\u001b[0m\u001b[1;33m\u001b[0m\u001b[1;33m\u001b[0m\u001b[0m\n\u001b[0;32m   4304\u001b[0m             \u001b[1;32mand\u001b[0m \u001b[1;32mnot\u001b[0m \u001b[0mself\u001b[0m\u001b[1;33m.\u001b[0m\u001b[0mcolumns\u001b[0m\u001b[1;33m.\u001b[0m\u001b[0mis_unique\u001b[0m\u001b[1;33m\u001b[0m\u001b[1;33m\u001b[0m\u001b[0m\n",
      "\u001b[1;32m~\\anaconda3\\Lib\\site-packages\\pandas\\core\\frame.py\u001b[0m in \u001b[0;36m?\u001b[1;34m(self, key, value)\u001b[0m\n\u001b[0;32m   4425\u001b[0m             \u001b[0mloc\u001b[0m \u001b[1;33m=\u001b[0m \u001b[0mself\u001b[0m\u001b[1;33m.\u001b[0m\u001b[0mcolumns\u001b[0m\u001b[1;33m.\u001b[0m\u001b[0mget_loc\u001b[0m\u001b[1;33m(\u001b[0m\u001b[0mkey\u001b[0m\u001b[1;33m)\u001b[0m\u001b[1;33m\u001b[0m\u001b[1;33m\u001b[0m\u001b[0m\n\u001b[0;32m   4426\u001b[0m             \u001b[0mcols\u001b[0m \u001b[1;33m=\u001b[0m \u001b[0mself\u001b[0m\u001b[1;33m.\u001b[0m\u001b[0mcolumns\u001b[0m\u001b[1;33m[\u001b[0m\u001b[0mloc\u001b[0m\u001b[1;33m]\u001b[0m\u001b[1;33m\u001b[0m\u001b[1;33m\u001b[0m\u001b[0m\n\u001b[0;32m   4427\u001b[0m             \u001b[0mlen_cols\u001b[0m \u001b[1;33m=\u001b[0m \u001b[1;36m1\u001b[0m \u001b[1;32mif\u001b[0m \u001b[0mis_scalar\u001b[0m\u001b[1;33m(\u001b[0m\u001b[0mcols\u001b[0m\u001b[1;33m)\u001b[0m \u001b[1;32mor\u001b[0m \u001b[0misinstance\u001b[0m\u001b[1;33m(\u001b[0m\u001b[0mcols\u001b[0m\u001b[1;33m,\u001b[0m \u001b[0mtuple\u001b[0m\u001b[1;33m)\u001b[0m \u001b[1;32melse\u001b[0m \u001b[0mlen\u001b[0m\u001b[1;33m(\u001b[0m\u001b[0mcols\u001b[0m\u001b[1;33m)\u001b[0m\u001b[1;33m\u001b[0m\u001b[1;33m\u001b[0m\u001b[0m\n\u001b[0;32m   4428\u001b[0m             \u001b[1;32mif\u001b[0m \u001b[0mlen_cols\u001b[0m \u001b[1;33m!=\u001b[0m \u001b[0mlen\u001b[0m\u001b[1;33m(\u001b[0m\u001b[0mvalue\u001b[0m\u001b[1;33m.\u001b[0m\u001b[0mcolumns\u001b[0m\u001b[1;33m)\u001b[0m\u001b[1;33m:\u001b[0m\u001b[1;33m\u001b[0m\u001b[1;33m\u001b[0m\u001b[0m\n\u001b[1;32m-> 4429\u001b[1;33m                 \u001b[1;32mraise\u001b[0m \u001b[0mValueError\u001b[0m\u001b[1;33m(\u001b[0m\u001b[1;34m\"Columns must be same length as key\"\u001b[0m\u001b[1;33m)\u001b[0m\u001b[1;33m\u001b[0m\u001b[1;33m\u001b[0m\u001b[0m\n\u001b[0m\u001b[0;32m   4430\u001b[0m \u001b[1;33m\u001b[0m\u001b[0m\n\u001b[0;32m   4431\u001b[0m             \u001b[1;31m# align right-hand-side columns if self.columns\u001b[0m\u001b[1;33m\u001b[0m\u001b[1;33m\u001b[0m\u001b[0m\n\u001b[0;32m   4432\u001b[0m             \u001b[1;31m# is multi-index and self[key] is a sub-frame\u001b[0m\u001b[1;33m\u001b[0m\u001b[1;33m\u001b[0m\u001b[0m\n",
      "\u001b[1;31mValueError\u001b[0m: Columns must be same length as key"
     ]
    }
   ],
   "source": [
    "# Clean longevity column (convert ranges like \"8-10\" into average)\n",
    "breed_info['longevity_'] = (\n",
    "    breed_info['longevity_']\n",
    "    .astype(str)\n",
    "    .str.extract(r'(\\d+)-?(\\d+)?')  # capture first and optional second number\n",
    ")\n",
    "\n",
    "# Convert to numeric and average if there are two numbers\n",
    "breed_info['longevity_'] = breed_info['longevity_'].apply(\n",
    "    lambda x: (pd.to_numeric(x[0]) + pd.to_numeric(x[1])) / 2 if pd.notnull(x[1]) else pd.to_numeric(x[0])\n",
    ")\n"
   ]
  },
  {
   "cell_type": "code",
   "execution_count": 63,
   "id": "9057e4be-6964-46fa-8e19-49314a6ef346",
   "metadata": {},
   "outputs": [
    {
     "name": "stdout",
     "output_type": "stream",
     "text": [
      "size_category\n",
      "Medium    53\n",
      "Small     46\n",
      "Large     18\n",
      "Name: count, dtype: int64\n",
      "size_category\n",
      "Large     10.444444\n",
      "Medium    12.556604\n",
      "Small     13.315217\n",
      "Name: longevity_, dtype: float64\n"
     ]
    }
   ],
   "source": [
    "# Size category distribution\n",
    "print(breed_info['size_category'].value_counts())\n",
    "\n",
    "# Average longevity by size\n",
    "print(breed_info.groupby('size_category')['longevity_'].mean())\n"
   ]
  },
  {
   "cell_type": "code",
   "execution_count": 64,
   "id": "64e6e18c-794c-4e6b-b1ca-a63e9133ad57",
   "metadata": {},
   "outputs": [
    {
     "ename": "KeyError",
     "evalue": "'Height (in)'",
     "output_type": "error",
     "traceback": [
      "\u001b[1;31m---------------------------------------------------------------------------\u001b[0m",
      "\u001b[1;31mKeyError\u001b[0m                                  Traceback (most recent call last)",
      "File \u001b[1;32m~\\anaconda3\\Lib\\site-packages\\pandas\\core\\indexes\\base.py:3805\u001b[0m, in \u001b[0;36mIndex.get_loc\u001b[1;34m(self, key)\u001b[0m\n\u001b[0;32m   3804\u001b[0m \u001b[38;5;28;01mtry\u001b[39;00m:\n\u001b[1;32m-> 3805\u001b[0m     \u001b[38;5;28;01mreturn\u001b[39;00m \u001b[38;5;28mself\u001b[39m\u001b[38;5;241m.\u001b[39m_engine\u001b[38;5;241m.\u001b[39mget_loc(casted_key)\n\u001b[0;32m   3806\u001b[0m \u001b[38;5;28;01mexcept\u001b[39;00m \u001b[38;5;167;01mKeyError\u001b[39;00m \u001b[38;5;28;01mas\u001b[39;00m err:\n",
      "File \u001b[1;32mindex.pyx:167\u001b[0m, in \u001b[0;36mpandas._libs.index.IndexEngine.get_loc\u001b[1;34m()\u001b[0m\n",
      "File \u001b[1;32mindex.pyx:191\u001b[0m, in \u001b[0;36mpandas._libs.index.IndexEngine.get_loc\u001b[1;34m()\u001b[0m\n",
      "File \u001b[1;32mindex.pyx:234\u001b[0m, in \u001b[0;36mpandas._libs.index.IndexEngine._get_loc_duplicates\u001b[1;34m()\u001b[0m\n",
      "File \u001b[1;32mindex.pyx:242\u001b[0m, in \u001b[0;36mpandas._libs.index.IndexEngine._maybe_get_bool_indexer\u001b[1;34m()\u001b[0m\n",
      "File \u001b[1;32mindex.pyx:134\u001b[0m, in \u001b[0;36mpandas._libs.index._unpack_bool_indexer\u001b[1;34m()\u001b[0m\n",
      "\u001b[1;31mKeyError\u001b[0m: 'Height (in)'",
      "\nThe above exception was the direct cause of the following exception:\n",
      "\u001b[1;31mKeyError\u001b[0m                                  Traceback (most recent call last)",
      "Cell \u001b[1;32mIn[64], line 3\u001b[0m\n\u001b[0;32m      1\u001b[0m \u001b[38;5;66;03m# --- Clean Height ---\u001b[39;00m\n\u001b[0;32m      2\u001b[0m \u001b[38;5;66;03m# Extract numbers from ranges like \"10-12\"\u001b[39;00m\n\u001b[1;32m----> 3\u001b[0m height_nums \u001b[38;5;241m=\u001b[39m breed_info[\u001b[38;5;124m'\u001b[39m\u001b[38;5;124mHeight (in)\u001b[39m\u001b[38;5;124m'\u001b[39m]\u001b[38;5;241m.\u001b[39mastype(\u001b[38;5;28mstr\u001b[39m)\u001b[38;5;241m.\u001b[39mstr\u001b[38;5;241m.\u001b[39mextract(\u001b[38;5;124mr\u001b[39m\u001b[38;5;124m'\u001b[39m\u001b[38;5;124m(\u001b[39m\u001b[38;5;124m\\\u001b[39m\u001b[38;5;124md+)-?(\u001b[39m\u001b[38;5;124m\\\u001b[39m\u001b[38;5;124md+)?\u001b[39m\u001b[38;5;124m'\u001b[39m)\n\u001b[0;32m      5\u001b[0m \u001b[38;5;66;03m# Convert to numeric\u001b[39;00m\n\u001b[0;32m      6\u001b[0m height_nums \u001b[38;5;241m=\u001b[39m height_nums\u001b[38;5;241m.\u001b[39mapply(pd\u001b[38;5;241m.\u001b[39mto_numeric, errors\u001b[38;5;241m=\u001b[39m\u001b[38;5;124m'\u001b[39m\u001b[38;5;124mcoerce\u001b[39m\u001b[38;5;124m'\u001b[39m)\n",
      "File \u001b[1;32m~\\anaconda3\\Lib\\site-packages\\pandas\\core\\frame.py:4102\u001b[0m, in \u001b[0;36mDataFrame.__getitem__\u001b[1;34m(self, key)\u001b[0m\n\u001b[0;32m   4100\u001b[0m \u001b[38;5;28;01mif\u001b[39;00m \u001b[38;5;28mself\u001b[39m\u001b[38;5;241m.\u001b[39mcolumns\u001b[38;5;241m.\u001b[39mnlevels \u001b[38;5;241m>\u001b[39m \u001b[38;5;241m1\u001b[39m:\n\u001b[0;32m   4101\u001b[0m     \u001b[38;5;28;01mreturn\u001b[39;00m \u001b[38;5;28mself\u001b[39m\u001b[38;5;241m.\u001b[39m_getitem_multilevel(key)\n\u001b[1;32m-> 4102\u001b[0m indexer \u001b[38;5;241m=\u001b[39m \u001b[38;5;28mself\u001b[39m\u001b[38;5;241m.\u001b[39mcolumns\u001b[38;5;241m.\u001b[39mget_loc(key)\n\u001b[0;32m   4103\u001b[0m \u001b[38;5;28;01mif\u001b[39;00m is_integer(indexer):\n\u001b[0;32m   4104\u001b[0m     indexer \u001b[38;5;241m=\u001b[39m [indexer]\n",
      "File \u001b[1;32m~\\anaconda3\\Lib\\site-packages\\pandas\\core\\indexes\\base.py:3812\u001b[0m, in \u001b[0;36mIndex.get_loc\u001b[1;34m(self, key)\u001b[0m\n\u001b[0;32m   3807\u001b[0m     \u001b[38;5;28;01mif\u001b[39;00m \u001b[38;5;28misinstance\u001b[39m(casted_key, \u001b[38;5;28mslice\u001b[39m) \u001b[38;5;129;01mor\u001b[39;00m (\n\u001b[0;32m   3808\u001b[0m         \u001b[38;5;28misinstance\u001b[39m(casted_key, abc\u001b[38;5;241m.\u001b[39mIterable)\n\u001b[0;32m   3809\u001b[0m         \u001b[38;5;129;01mand\u001b[39;00m \u001b[38;5;28many\u001b[39m(\u001b[38;5;28misinstance\u001b[39m(x, \u001b[38;5;28mslice\u001b[39m) \u001b[38;5;28;01mfor\u001b[39;00m x \u001b[38;5;129;01min\u001b[39;00m casted_key)\n\u001b[0;32m   3810\u001b[0m     ):\n\u001b[0;32m   3811\u001b[0m         \u001b[38;5;28;01mraise\u001b[39;00m InvalidIndexError(key)\n\u001b[1;32m-> 3812\u001b[0m     \u001b[38;5;28;01mraise\u001b[39;00m \u001b[38;5;167;01mKeyError\u001b[39;00m(key) \u001b[38;5;28;01mfrom\u001b[39;00m \u001b[38;5;21;01merr\u001b[39;00m\n\u001b[0;32m   3813\u001b[0m \u001b[38;5;28;01mexcept\u001b[39;00m \u001b[38;5;167;01mTypeError\u001b[39;00m:\n\u001b[0;32m   3814\u001b[0m     \u001b[38;5;66;03m# If we have a listlike key, _check_indexing_error will raise\u001b[39;00m\n\u001b[0;32m   3815\u001b[0m     \u001b[38;5;66;03m#  InvalidIndexError. Otherwise we fall through and re-raise\u001b[39;00m\n\u001b[0;32m   3816\u001b[0m     \u001b[38;5;66;03m#  the TypeError.\u001b[39;00m\n\u001b[0;32m   3817\u001b[0m     \u001b[38;5;28mself\u001b[39m\u001b[38;5;241m.\u001b[39m_check_indexing_error(key)\n",
      "\u001b[1;31mKeyError\u001b[0m: 'Height (in)'"
     ]
    }
   ],
   "source": [
    "# --- Clean Height ---\n",
    "# Extract numbers from ranges like \"10-12\"\n",
    "height_nums = breed_info['Height (in)'].astype(str).str.extract(r'(\\d+)-?(\\d+)?')\n",
    "\n",
    "# Convert to numeric\n",
    "height_nums = height_nums.apply(pd.to_numeric, errors='coerce')\n",
    "\n",
    "# Take average if two numbers exist, else just the first\n",
    "breed_info['height_in'] = height_nums.apply(\n",
    "    lambda x: (x[0] + x[1]) / 2 if pd.notnull(x[1]) else x[0],\n",
    "    axis=1\n",
    ")\n",
    "\n",
    "# --- Clean Longevity ---\n",
    "# Extract numbers from ranges like \"8-10\"\n",
    "longevity_nums = breed_info['longevity_'].astype(str).str.extract(r'(\\d+)-?(\\d+)?')\n",
    "\n",
    "# Convert to numeric\n",
    "longevity_nums = longevity_nums.apply(pd.to_numeric, errors='coerce')\n",
    "\n",
    "# Take average if two numbers exist, else just the first\n",
    "breed_info['longevity_'] = longevity_nums.apply(\n",
    "    lambda x: (x[0] + x[1]) / 2 if pd.notnull(x[1]) else x[0],\n",
    "    axis=1\n",
    ")\n",
    "\n",
    "# --- Define Size Category based on height ---\n",
    "def size_category(h):\n",
    "    if pd.isnull(h): \n",
    "        return \"Unknown\"\n",
    "    elif h < 15:\n",
    "        return \"Small\"\n",
    "    elif h < 25:\n",
    "        return \"Medium\"\n",
    "    else:\n",
    "        return \"Large\"\n",
    "\n",
    "breed_info['size_category'] = breed_info['height_in'].apply(size_category)\n",
    "\n",
    "# --- Check results ---\n",
    "print(breed_info[['Breed', 'height_in', 'size_category', 'longevity_']].head())\n"
   ]
  },
  {
   "cell_type": "code",
   "execution_count": null,
   "id": "10795b4b-64f2-4a7b-9483-ec98e8d02e11",
   "metadata": {},
   "outputs": [],
   "source": []
  }
 ],
 "metadata": {
  "kernelspec": {
   "display_name": "Python 3 (ipykernel)",
   "language": "python",
   "name": "python3"
  },
  "language_info": {
   "codemirror_mode": {
    "name": "ipython",
    "version": 3
   },
   "file_extension": ".py",
   "mimetype": "text/x-python",
   "name": "python",
   "nbconvert_exporter": "python",
   "pygments_lexer": "ipython3",
   "version": "3.12.7"
  }
 },
 "nbformat": 4,
 "nbformat_minor": 5
}
